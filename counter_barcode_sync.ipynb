{
 "cells": [
  {
   "cell_type": "code",
   "execution_count": 286,
   "metadata": {},
   "outputs": [],
   "source": [
    "import tdt\n",
    "import numpy as np\n",
    "import matplotlib.pyplot as plt\n",
    "from warnings import warn \n",
    "from pathlib import Path\n",
    "from tkinter import Tk\n",
    "from tkinter import filedialog\n",
    "from readSGLX import readMeta, SampRate, makeMemMapRaw, ExtractDigital\n",
    "from sklearn.linear_model import LinearRegression\n",
    "from scipy.io import savemat\n",
    "from warnings import warn\n",
    "from barcodes import extract_barcodes_from_times\n",
    "from difflib import SequenceMatcher"
   ]
  },
  {
   "cell_type": "code",
   "execution_count": 137,
   "metadata": {},
   "outputs": [],
   "source": [
    "def plot_pulses(onset_times, offset_times, nPulsesToPlot=20):\n",
    "    '''Use onset and offset times to plot pulse waveforms. \n",
    "    Times should be in seconds. Plot only the first N pulses (default 100)'''\n",
    "    \n",
    "    #Interleave onset and offset times\n",
    "    edge_times = np.empty((onset_times.size + offset_times.size,), dtype=onset_times.dtype)\n",
    "    edge_times[0::2] = onset_times\n",
    "    edge_times[1::2] = offset_times\n",
    "    \n",
    "    # Figure out when pulses are high and when they are low\n",
    "    sync_levels = np.empty((onset_times.size + offset_times.size,), dtype=onset_times.dtype)\n",
    "    sync_levels[0::2] = 1\n",
    "    sync_levels[1::2] = 0\n",
    "\n",
    "    plt.figure(num=None, figsize=(30, 6), dpi=80, facecolor='w', edgecolor='k')\n",
    "    plt.step(edge_times[:nPulsesToPlot], sync_levels[:nPulsesToPlot], where='post')"
   ]
  },
  {
   "cell_type": "markdown",
   "metadata": {},
   "source": [
    "# Load SGLX"
   ]
  },
  {
   "cell_type": "code",
   "execution_count": 138,
   "metadata": {},
   "outputs": [],
   "source": [
    "def select_sglx_file():\n",
    "    '''Select a SGLX binary file to extract the digtial sync bit from. \n",
    "    Using the LFP file is faster, but the AP file is maximally precise.'''\n",
    "\n",
    "    \n",
    "    # Get file from user\n",
    "    root = Tk()         # create the Tkinter widget\n",
    "    root.withdraw()     # hide the Tkinter root window\n",
    "\n",
    "    # Windows specific; forces the window to appear in front\n",
    "    root.attributes(\"-topmost\", True)\n",
    "\n",
    "    fullPath = Path(filedialog.askopenfilename(title=\"Select SpikeGLX binary file\"))\n",
    "\n",
    "    root.destroy()\n",
    "    \n",
    "    return fullPath"
   ]
  },
  {
   "cell_type": "code",
   "execution_count": 139,
   "metadata": {},
   "outputs": [],
   "source": [
    "def sglx_load_sync(sglx_file):\n",
    "    '''Load the sync channel from the specified binary file. \n",
    "    The SpikeGLX metadata file must be present in the same directory as the binary file.'''\n",
    "    meta = readMeta(sglx_file)\n",
    "    rawData = makeMemMapRaw(sglx_file, meta)\n",
    "\n",
    "    # Read the entire file\n",
    "    firstSamp = 0\n",
    "    lastSamp = rawData.shape[1]-1\n",
    "\n",
    "    # Which digital word to read. \n",
    "    # For imec, there is only 1 digital word, dw = 0.\n",
    "    # For NI, digital lines 0-15 are in word 0, lines 16-31 are in word 1, etc.\n",
    "    dw = 0    \n",
    "    # Which lines within the digital word, zero-based\n",
    "    # Note that the SYNC line for PXI 3B is stored in line 6.\n",
    "    dLineList = [6]\n",
    "        \n",
    "    return ExtractDigital(rawData, firstSamp, lastSamp, dw, dLineList, meta)"
   ]
  },
  {
   "cell_type": "code",
   "execution_count": 140,
   "metadata": {},
   "outputs": [],
   "source": [
    "def sglx_onset_samples(sync):\n",
    "    '''Extract the pulse rising edge samples from the SGLX sync channel.'''\n",
    "    # Onsets are the first samples where a value is high after being low. If sample 0 is high, the first onset is sample 0. Consistent with TDT convention.\n",
    "    onset_samples = np.where(np.diff(np.squeeze(sync), prepend=0) == 1)[0]\n",
    "    assert(onset_samples.dtype == np.dtype('int64')) # Make sure uint8s have been properly casted as int64s\n",
    "    return onset_samples"
   ]
  },
  {
   "cell_type": "code",
   "execution_count": 141,
   "metadata": {},
   "outputs": [],
   "source": [
    "def sglx_offset_samples(sync):\n",
    "    '''Extract the pulse falling edge samples from the SGLX sync channel'''\n",
    "    # Offsets are the first samples wehre a value is low after being high. If the last sample is high, the last offset is Inf. Consistent with TDT convention.\n",
    "    offset_samples = np.where(np.diff(np.squeeze(sync), prepend=0) == -1)[0]\n",
    "    assert(offset_samples.dtype == np.dtype('int64')) # Make sure uint8s have been properly casted as int64s\n",
    "    if np.squeeze(sync)[-1] == 1:\n",
    "        offset_samples = np.append(offset_samples, np.Inf)\n",
    "    return offset_samples"
   ]
  },
  {
   "cell_type": "code",
   "execution_count": 142,
   "metadata": {},
   "outputs": [],
   "source": [
    "def get_rising_edges(onset_times):\n",
    "    '''Assumes onset times follow TDT convention, as described above.'''\n",
    "    return onset_times[np.where(onset_times > 0)]"
   ]
  },
  {
   "cell_type": "code",
   "execution_count": 143,
   "metadata": {},
   "outputs": [],
   "source": [
    "def get_falling_edges(offset_times):\n",
    "    '''Assumes offset times follow TDT convention, as described above '''\n",
    "    return offset_times[np.where(offset_times < np.Inf)]"
   ]
  },
  {
   "cell_type": "code",
   "execution_count": 144,
   "metadata": {},
   "outputs": [],
   "source": [
    "sglx_file = select_sglx_file()"
   ]
  },
  {
   "cell_type": "code",
   "execution_count": 145,
   "metadata": {},
   "outputs": [
    {
     "name": "stdout",
     "output_type": "stream",
     "text": [
      "nChan: 385, nFileSamp: 4794576\n"
     ]
    }
   ],
   "source": [
    "sglx_sync = sglx_load_sync(sglx_file)\n",
    "sglx_fs = SampRate(readMeta(sglx_file))\n",
    "# Times are in seconds from the start of the SGLX recording. \n",
    "sglx_onset_times = sglx_onset_samples(sglx_sync) / sglx_fs\n",
    "sglx_offset_times = sglx_offset_samples(sglx_sync) / sglx_fs"
   ]
  },
  {
   "cell_type": "code",
   "execution_count": 146,
   "metadata": {},
   "outputs": [
    {
     "data": {
      "image/png": "[encoded data removed]",
      "text/plain": [
       "<Figure size 2400x480 with 1 Axes>"
      ]
     },
     "metadata": {},
     "output_type": "display_data"
    }
   ],
   "source": [
    "plot_pulses(sglx_onset_times, sglx_offset_times, nPulsesToPlot=20)"
   ]
  },
  {
   "cell_type": "code",
   "execution_count": 147,
   "metadata": {},
   "outputs": [],
   "source": [
    "sglx_rising_edges = get_rising_edges(sglx_onset_times)\n",
    "sglx_falling_edges = get_falling_edges(sglx_offset_times)\n",
    "sglx_barcode_start_times, sglx_barcodes = extract_barcodes_from_times(sglx_rising_edges, sglx_falling_edges, bar_duration=0.029)"
   ]
  },
  {
   "cell_type": "markdown",
   "metadata": {},
   "source": [
    "# Load TDT"
   ]
  },
  {
   "cell_type": "code",
   "execution_count": 148,
   "metadata": {},
   "outputs": [],
   "source": [
    "def select_tdt_block():\n",
    "    '''Select a TDT block to extract sync info from.'''\n",
    "    # Get file from user\n",
    "    root = Tk()         # create the Tkinter widget\n",
    "    root.withdraw()     # hide the Tkinter root window\n",
    "\n",
    "    # Windows specific; forces the window to appear in front\n",
    "    root.attributes(\"-topmost\", True)\n",
    "\n",
    "    fullPath = Path(filedialog.askdirectory(title=\"Select TDT block\"))\n",
    "\n",
    "    root.destroy()\n",
    "    \n",
    "    return fullPath"
   ]
  },
  {
   "cell_type": "code",
   "execution_count": 149,
   "metadata": {},
   "outputs": [],
   "source": [
    "tdt_file = select_tdt_block()"
   ]
  },
  {
   "cell_type": "code",
   "execution_count": 150,
   "metadata": {},
   "outputs": [
    {
     "name": "stdout",
     "output_type": "stream",
     "text": [
      "read from t=0s to t=1722.95s\n"
     ]
    }
   ],
   "source": [
    "tdt_data = tdt.read_block(tdt_file, evtype=['epocs'])\n",
    "# Here, we assume that your digital sync pulse is recorded on Port C0\n",
    "# YSK: TDT calls the onset of a signal that starts high \"0\", but the offset of a signal that ends high \"inf\"\n",
    "# Times are in seconds from the start of the TDT recording. \n",
    "tdt_onset_times = tdt_data.epocs.PC0_.onset \n",
    "tdt_offset_times = tdt_data.epocs.PC0_.offset"
   ]
  },
  {
   "cell_type": "code",
   "execution_count": 151,
   "metadata": {},
   "outputs": [
    {
     "data": {
      "image/png": "[encoded data removed]",
      "text/plain": [
       "<Figure size 2400x480 with 1 Axes>"
      ]
     },
     "metadata": {},
     "output_type": "display_data"
    }
   ],
   "source": [
    "plot_pulses(tdt_onset_times, tdt_offset_times, nPulsesToPlot=20)"
   ]
  },
  {
   "cell_type": "code",
   "execution_count": 152,
   "metadata": {},
   "outputs": [],
   "source": [
    "tdt_rising_edges = get_rising_edges(tdt_onset_times)\n",
    "tdt_falling_edges = get_falling_edges(tdt_offset_times)\n",
    "tdt_barcode_start_times, tdt_barcodes = extract_barcodes_from_times(tdt_rising_edges, tdt_falling_edges, bar_duration=0.029)"
   ]
  },
  {
   "cell_type": "markdown",
   "metadata": {},
   "source": [
    "# Use barcodes to align streams"
   ]
  },
  {
   "cell_type": "code",
   "execution_count": 153,
   "metadata": {},
   "outputs": [
    {
     "name": "stdout",
     "output_type": "stream",
     "text": [
      "[  34.92521036   65.88281955   96.84042873  127.79843792  158.7560471\n",
      "  189.71365629  220.67126548  251.62887466  282.58648385  313.54409303\n",
      "  344.50170222  375.4593114   406.41692059  437.37452977  468.33213896\n",
      "  499.28974814  530.24735733  561.20496651  592.1625757   623.12018488\n",
      "  654.07779407  685.03540326  715.99301244  746.95062163  777.90823081\n",
      "  808.86584     839.82344918  870.78105837  901.73866755  932.69627674\n",
      "  963.65388592  994.61149511 1025.56910429 1056.52671348 1087.48432267\n",
      " 1118.44193185 1149.39954104 1180.35715022 1211.31475941 1242.27236859\n",
      " 1273.22997778 1304.18758696 1335.14519615 1366.10280533 1397.06041452\n",
      " 1428.0180237  1458.97563289 1489.93364208 1520.89125126 1551.84886045\n",
      " 1582.80646963 1613.76407882 1644.721688   1675.67929719 1706.63690637\n",
      " 1737.59491556 1768.55252474 1799.51013393 1830.46774312 1861.4253523\n",
      " 1892.38296149]\n",
      "[  51.5833856    82.54099456  113.49864448  144.45625344  175.41382144\n",
      "  206.3714304   237.32903936  268.28664832  299.24425728  330.20182528\n",
      "  361.15943424  392.1170432   423.07465216  454.03226112  484.98982912\n",
      "  515.94743808  546.90500608  577.86261504  608.82018304  639.77775104\n",
      "  670.73531904  701.692928    732.650496    763.60810496  794.56571392\n",
      "  825.52328192  856.48089088  887.43849984  918.3961088   949.3536768\n",
      "  980.31128576 1011.26893568 1042.22654464 1073.1841536  1104.14176256\n",
      " 1135.09937152 1166.05702144 1197.01467136 1227.97232128 1258.9299712\n",
      " 1289.88762112 1320.84527104 1351.80288    1382.76052992 1413.71817984\n",
      " 1444.67587072 1475.63352064 1506.59117056 1537.54882048 1568.5064704\n",
      " 1599.46412032 1630.42177024 1661.37946112 1692.33711104]\n"
     ]
    }
   ],
   "source": [
    "print(sglx_barcode_start_times)\n",
    "print(tdt_barcode_start_times)"
   ]
  },
  {
   "cell_type": "code",
   "execution_count": 157,
   "metadata": {},
   "outputs": [
    {
     "name": "stdout",
     "output_type": "stream",
     "text": [
      "SpikeGLX barcodes:\n",
      " [189325.0, 189323.0, 189321.0, 189319.0, 189317.0, 189315.0, 189313.0, 189311.0, 189309.0, 189307.0, 189305.0, 189303.0, 189301.0, 189299.0, 189297.0, 189295.0, 189293.0, 189291.0, 189289.0, 189287.0, 189285.0, 189283.0, 189281.0, 189279.0, 189277.0, 189275.0, 189273.0, 189271.0, 189269.0, 189267.0, 189265.0, 189263.0, 189261.0, 189259.0, 189257.0, 189255.0, 189253.0, 189251.0, 189249.0, 189247.0, 189245.0, 189243.0, 189241.0, 189239.0, 189237.0, 189235.0, 189233.0, 189231.0, 189229.0, 189227.0, 189225.0, 189223.0, 189221.0, 189219.0, 189217.0, 189215.0, 189213.0, 189211.0, 189209.0, 189207.0, 189205.0]\n",
      "TDT barcodes:\n",
      " [189311.0, 189309.0, 189307.0, 189305.0, 189303.0, 189301.0, 189299.0, 189297.0, 189295.0, 189293.0, 189291.0, 189289.0, 189287.0, 189285.0, 189283.0, 189281.0, 189279.0, 189277.0, 189275.0, 189273.0, 189271.0, 189269.0, 189267.0, 189265.0, 189263.0, 189261.0, 189259.0, 189257.0, 189255.0, 189253.0, 189251.0, 189249.0, 189247.0, 189245.0, 189243.0, 189241.0, 189239.0, 189237.0, 189235.0, 189233.0, 189231.0, 189229.0, 189227.0, 189225.0, 189223.0, 189221.0, 189219.0, 189217.0, 189215.0, 189213.0, 189211.0, 189209.0, 189207.0, 189205.0]\n"
     ]
    }
   ],
   "source": [
    "print(\"SpikeGLX barcodes:\\n\", sglx_barcodes)\n",
    "print(\"TDT barcodes:\\n\", tdt_barcodes)"
   ]
  },
  {
   "cell_type": "code",
   "execution_count": 173,
   "metadata": {},
   "outputs": [
    {
     "name": "stdout",
     "output_type": "stream",
     "text": [
      "Longest barcode sequence common to both systems:\n",
      " [189311.0, 189309.0, 189307.0, 189305.0, 189303.0, 189301.0, 189299.0, 189297.0, 189295.0, 189293.0, 189291.0, 189289.0, 189287.0, 189285.0, 189283.0, 189281.0, 189279.0, 189277.0, 189275.0, 189273.0, 189271.0, 189269.0, 189267.0, 189265.0, 189263.0, 189261.0, 189259.0, 189257.0, 189255.0, 189253.0, 189251.0, 189249.0, 189247.0, 189245.0, 189243.0, 189241.0, 189239.0, 189237.0, 189235.0, 189233.0, 189231.0, 189229.0, 189227.0, 189225.0, 189223.0, 189221.0, 189219.0, 189217.0, 189215.0, 189213.0, 189211.0, 189209.0, 189207.0, 189205.0]\n"
     ]
    }
   ],
   "source": [
    "# Find the longest sequence of barcodes recorded by both systems\n",
    "s = SequenceMatcher(None, sglx_barcodes, tdt_barcodes)\n",
    "match = s.find_longest_match(alo=0, ahi=len(sglx_barcodes), blo=0, bhi=len(tdt_barcodes))\n",
    "shared_barcodes = sglx_barcodes[match.a : match.a + match.size]\n",
    "print(\"Longest barcode sequence common to both systems:\\n\", shared_barcodes)"
   ]
  },
  {
   "cell_type": "code",
   "execution_count": 176,
   "metadata": {},
   "outputs": [],
   "source": [
    "# Using the barcodes shared by both systems, fit the TDT barcode times to the SGLX barcode times\n",
    "y = sglx_barcode_start_times[match.a : match.a + match.size]\n",
    "x = tdt_barcode_start_times[match.b : match.b + match.size].reshape((-1, 1))\n",
    "model = LinearRegression().fit(x, y)\n",
    "r_sq = model.score(x, y)"
   ]
  },
  {
   "cell_type": "code",
   "execution_count": 177,
   "metadata": {},
   "outputs": [
    {
     "name": "stdout",
     "output_type": "stream",
     "text": [
      "coefficient of determination: 0.9999999999999706\n",
      "intercept: 200.04545206469015\n",
      "drift rate in msec/hr: 1.1617149130671578\n"
     ]
    }
   ],
   "source": [
    "print('coefficient of determination:', r_sq)\n",
    "print('intercept:', model.intercept_)\n",
    "print('drift rate in msec/hr:', (model.coef_[0] - 1)*60*60*1000)"
   ]
  },
  {
   "cell_type": "code",
   "execution_count": 182,
   "metadata": {},
   "outputs": [],
   "source": [
    "def visualize_mapping(sglx_rising_edges, tdt_rising_edges, model, nPulsesToPlot=10):\n",
    "    '''Visualize remapped TDT sync pulse times in SGLX time space, to verify correctness.\n",
    "    Black lines = Pulse times measured by SGLX.\n",
    "    Red lines = Pulse times measured by TDT and remapped to SGLX time space. '''\n",
    "    remapped_tdt_times = model.predict(tdt_rising_edges.reshape((-1, 1)))\n",
    "    \n",
    "    plt.figure(num=None, figsize=(30, 6), dpi=80, facecolor='w', edgecolor='k')\n",
    "    plt.vlines(sglx_rising_edges[:nPulsesToPlot], 0, 1, colors='black')\n",
    "    plt.vlines(remapped_tdt_times[:nPulsesToPlot], 0, 1, linestyle='dotted', colors='red')"
   ]
  },
  {
   "cell_type": "code",
   "execution_count": 186,
   "metadata": {},
   "outputs": [
    {
     "data": {
      "image/png": "[encoded data removed]",
      "text/plain": [
       "<Figure size 2400x480 with 1 Axes>"
      ]
     },
     "metadata": {},
     "output_type": "display_data"
    }
   ],
   "source": [
    "visualize_mapping(sglx_rising_edges, tdt_rising_edges, model, nPulsesToPlot=100)"
   ]
  },
  {
   "cell_type": "markdown",
   "metadata": {},
   "source": [
    "# Get TDT stimulation times from epocs store. Best if ISI is fixed. "
   ]
  },
  {
   "cell_type": "code",
   "execution_count": 455,
   "metadata": {
    "execution": {
     "iopub.execute_input": "2021-03-25T22:29:45.138147Z",
     "iopub.status.busy": "2021-03-25T22:29:45.137639Z",
     "iopub.status.idle": "2021-03-25T22:29:45.149614Z",
     "shell.execute_reply": "2021-03-25T22:29:45.148642Z",
     "shell.execute_reply.started": "2021-03-25T22:29:45.138085Z"
    }
   },
   "outputs": [],
   "source": [
    "def get_stim_times_from_epocs(tdt_data):\n",
    "    '''Extract the time of each stimulation from a loaded TDT block.\n",
    "    Times are in seconds from the start of the TDT recording.\n",
    "    Only works if pulses are delivered at fixed intervals.'''\n",
    "    CntA = tdt_data.epocs.CntA \n",
    "    PeA_ = tdt_data.epocs.PeA_\n",
    "    \n",
    "    n_strobes = np.size(PeA_.onset) \n",
    "    stim_t = np.array([])\n",
    "    \n",
    "    for strobe in np.arange(n_strobes):\n",
    "        strobe_ISI = PeA_.data[strobe] / 1000 # Convert from msec to sec\n",
    "        n_strobe_stims = CntA.data[strobe] # The number of stimlations in this strobe\n",
    "        strobe_start = PeA_.onset[strobe] # The time that this strobe started\n",
    "        strobe_stims = strobe_start + np.arange(n_strobe_stims) * strobe_ISI # The time of each stimulation in this strobe\n",
    "        stim_t = np.append(stim_t, strobe_stims)\n",
    "        \n",
    "    return stim_t  "
   ]
  },
  {
   "cell_type": "code",
   "execution_count": 82,
   "metadata": {
    "execution": {
     "iopub.execute_input": "2021-03-25T20:05:51.844037Z",
     "iopub.status.busy": "2021-03-25T20:05:51.843891Z",
     "iopub.status.idle": "2021-03-25T20:08:03.039488Z",
     "shell.execute_reply": "2021-03-25T20:08:03.038451Z",
     "shell.execute_reply.started": "2021-03-25T20:05:51.844019Z"
    }
   },
   "outputs": [
    {
     "name": "stdout",
     "output_type": "stream",
     "text": [
      "read from t=0s to t=4833.03s\n"
     ]
    }
   ],
   "source": [
    "tdt_data = tdt.read_block(tdt_file, evtype=['epocs', 'streams'])\n",
    "stim_times = get_stim_times(tdt_data)"
   ]
  },
  {
   "cell_type": "code",
   "execution_count": 456,
   "metadata": {
    "execution": {
     "iopub.execute_input": "2021-03-25T22:29:48.458563Z",
     "iopub.status.busy": "2021-03-25T22:29:48.458057Z",
     "iopub.status.idle": "2021-03-25T22:29:48.469828Z",
     "shell.execute_reply": "2021-03-25T22:29:48.468803Z",
     "shell.execute_reply.started": "2021-03-25T22:29:48.458500Z"
    }
   },
   "outputs": [],
   "source": [
    "def visualize_stims_from_epocs(tdt_data, ch, first_stim=0, last_stim=4, before=100, after=100):\n",
    "    '''Visualize estimated stimulation times (block dotted lines) relative to the stimulator current stream.\n",
    "    first_stim is the 0-based index of the first stimulation to plot.\n",
    "    last_stim is the 0-based index of the last stimulation to plot. \n",
    "    before/after are the number of samples to plot before the first stim and after the last stim.\n",
    "    ch is the stimulator current channel to plot.'''\n",
    "    fs = tdt_data.streams.eS1r.fs\n",
    "    stim_times = get_stim_times_from_epocs(tdt_data)\n",
    "    stim_samples = np.rint(stim_times * fs).astype('int')\n",
    "    samplesToPlot = np.arange(stim_samples[first_stim] - before, stim_samples[last_stim] + after)\n",
    "\n",
    "    plt.figure(num=None, figsize=(30, 6), dpi=80, facecolor='w', edgecolor='k')\n",
    "    plt.plot(samplesToPlot, tdt_data.streams.eS1r.data[ch, samplesToPlot])\n",
    "    plt.vlines(stim_samples[first_stim : last_stim + 1], 0, 1000, linestyle='dotted', colors='black')"
   ]
  },
  {
   "cell_type": "code",
   "execution_count": 457,
   "metadata": {
    "execution": {
     "iopub.execute_input": "2021-03-25T22:29:49.094425Z",
     "iopub.status.busy": "2021-03-25T22:29:49.093921Z",
     "iopub.status.idle": "2021-03-25T22:29:49.358426Z",
     "shell.execute_reply": "2021-03-25T22:29:49.357731Z",
     "shell.execute_reply.started": "2021-03-25T22:29:49.094363Z"
    }
   },
   "outputs": [
    {
     "data": {
      "image/png": "[encoded data removed]",
      "text/plain": [
       "<Figure size 2400x480 with 1 Axes>"
      ]
     },
     "metadata": {},
     "output_type": "display_data"
    }
   ],
   "source": [
    "visualize_stims_from_epocs(tdt_data, ch=0, first_stim=1, last_stim=20)"
   ]
  },
  {
   "cell_type": "markdown",
   "metadata": {},
   "source": [
    "# Get TDT stimulation times from streams store. Necessary if ISI is jittered."
   ]
  },
  {
   "cell_type": "code",
   "execution_count": 187,
   "metadata": {},
   "outputs": [],
   "source": [
    "def remove_trailing_events(events, fs, distance=0.01):\n",
    "    \"\"\"Remove events that trail the first event within a certain amount of time.\n",
    "    \n",
    "    Parameters:\n",
    "    ===========\n",
    "    events: (n_events,)\n",
    "        The sample numbers of each event. \n",
    "    fs:\n",
    "        The sample rate.\n",
    "    distance:\n",
    "        The minimum number of seconds that an event must trail its predecessor in order to avoid being removed.\n",
    "    \n",
    "    Returns:\n",
    "    ========\n",
    "    arr: (n,):\n",
    "        All events which did not trail another event by less than `distance` seconds.\n",
    "    \n",
    "    Examples:\n",
    "    =========\n",
    "    If events are samples that occur at times (0.1, 0.4, 1, 1.9, 3) and distance=1,\n",
    "        resulting samples be will be from times (0.1, 1.9, 3).\n",
    "    \"\"\"\n",
    "    if events.size == 0:\n",
    "        return []\n",
    "\n",
    "    leading = [events[0]]\n",
    "    trailing = np.where(events - events[0] <= int(fs * distance))\n",
    "    remaining = np.delete(events, trailing)\n",
    "    return leading + remove_trailing_events(remaining, fs, distance)"
   ]
  },
  {
   "cell_type": "code",
   "execution_count": 188,
   "metadata": {},
   "outputs": [],
   "source": [
    "def assert_all_equal(arr):\n",
    "    \"\"\"Assert that all values in an array are equal, then return that value.\"\"\"\n",
    "    val = arr[0]\n",
    "    assert np.all(arr == val), \"All array values should be equal.\"\n",
    "    return val"
   ]
  },
  {
   "cell_type": "code",
   "execution_count": 295,
   "metadata": {},
   "outputs": [],
   "source": [
    "def get_stim_times_from_streams(tdt_data, isi_floor=0.01):\n",
    "    \"\"\"Get stimulation times by detecting the leading edges in the rectified, idealized current traces.\n",
    "    Note that idealized current is found in the eS1r stream store, while the actual current is found\n",
    "    in the IZ2n stream store. \n",
    "    \n",
    "    Parameters:\n",
    "    ===========\n",
    "    tdt_data: TDT block with epocs and streams stores. \n",
    "    isi_floor:\n",
    "        The mimimum interstimulation interval. This value must be longer than the duration of any single stimulation pulse. \n",
    "        \n",
    "    Returns:\n",
    "    ========\n",
    "    times: (n_stimulations,)\n",
    "        Stimulation times, in seconds from the start of the TDT recording.\n",
    "    \"\"\"\n",
    "    fs = tdt_data.streams.eS1r.fs\n",
    "    \n",
    "    # Get the channel number for each of the bipolar stimulation channels\n",
    "    chA = assert_all_equal(tdt_data.epocs.ChnA.data)\n",
    "    chB = assert_all_equal(tdt_data.epocs.ChnB.data)\n",
    "    \n",
    "    # Get the corresponding indexes into the idealized current trace data.\n",
    "    iA = np.where(tdt_data.streams.eS1r.channel == chA)[0][0]\n",
    "    iB = np.where(tdt_data.streams.eS1r.channel == chB)[0][0]\n",
    "    \n",
    "    # Get the rectified, idealized current traces for each stimulatin channel.\n",
    "    datA = np.abs(tdt_data.streams.eS1r.data[iA])\n",
    "    datB = np.abs(tdt_data.streams.eS1r.data[iB])\n",
    "    \n",
    "    # This is the maximum pulse amplitude delivered.\n",
    "    max_pulse_amp = tdt_data.epocs.AmpA.data.max()\n",
    "    \n",
    "    # TDT gives nonsense current trace values until the first pulse is delivered. Remove these. \n",
    "    datA[datA > max_pulse_amp] = 0\n",
    "    datB[datB > max_pulse_amp] = 0\n",
    "\n",
    "    assert np.isin(datA, [0, max_pulse_amp]).all(), \"Unexpected values in eS1r. All pulse amplitudes should be the same.\"\n",
    "    assert np.isin(datB, [0, max_pulse_amp]).all(), \"Unexpected values in eS1r. All pulse amplitudes should be the same.\"\n",
    "\n",
    "    # Get all samples from both channels where current is nonzero. \n",
    "    events = np.sort(np.concatenate(np.where(datA) + np.where(datB)))\n",
    "    # Get the first sample (on either channel) where each pulse's current is nonzero.\n",
    "    stim_samples = remove_trailing_events(events, fs, distance=isi_floor)\n",
    "    \n",
    "    n_stims_detected = len(stim_samples)\n",
    "    n_stims_expected = tdt_data.epocs.CntA.data.sum()\n",
    "    if(n_stims_detected != n_stims_expected):\n",
    "        warn(f'Expected {n_stims_expected} stimulations, found {n_stims_detected}.', stacklevel=2)\n",
    "    \n",
    "    return stim_samples / fs"
   ]
  },
  {
   "cell_type": "code",
   "execution_count": null,
   "metadata": {},
   "outputs": [],
   "source": [
    "tdt_data = tdt.read_block(tdt_file, evtype=['epocs', 'streams'])\n",
    "stim_times = get_stim_times_from_streams(tdt_data)"
   ]
  },
  {
   "cell_type": "code",
   "execution_count": 246,
   "metadata": {},
   "outputs": [],
   "source": [
    "def visualize_stims_from_streams(tdt_data, ch, first_stim=0, last_stim=4, before=100, after=100):\n",
    "    '''Visualize estimated stimulation times (block dotted lines) relative to the stimulator current stream.\n",
    "    first_stim is the 0-based index of the first stimulation to plot.\n",
    "    last_stim is the 0-based index of the last stimulation to plot. \n",
    "    before/after are the number of samples to plot before the first stim and after the last stim.\n",
    "    ch is the stimulator current channel to plot.'''\n",
    "    fs = tdt_data.streams.eS1r.fs\n",
    "    stim_samples = np.rint(get_stim_times_from_streams(tdt_data) * fs).astype('int')\n",
    "    samplesToPlot = np.arange(stim_samples[first_stim] - before, stim_samples[last_stim] + after)\n",
    "\n",
    "    plt.figure(num=None, figsize=(30, 6), dpi=80, facecolor='w', edgecolor='k')\n",
    "    plt.plot(samplesToPlot, tdt_data.streams.eS1r.data[ch, samplesToPlot])\n",
    "    plt.vlines(stim_samples[first_stim : last_stim + 1], 0, 1000, linestyle='dotted', colors='black')"
   ]
  },
  {
   "cell_type": "code",
   "execution_count": 284,
   "metadata": {},
   "outputs": [
    {
     "data": {
      "image/png": "[encoded data removed]",
      "text/plain": [
       "<Figure size 2400x480 with 1 Axes>"
      ]
     },
     "metadata": {},
     "output_type": "display_data"
    }
   ],
   "source": [
    "visualize_stims_from_streams(tdt_data, ch=0, first_stim=1, last_stim=10)"
   ]
  },
  {
   "cell_type": "markdown",
   "metadata": {},
   "source": [
    "# Remap stimulation times from TDT space to SGLX space, and save. "
   ]
  },
  {
   "cell_type": "code",
   "execution_count": 567,
   "metadata": {
    "execution": {
     "iopub.execute_input": "2021-03-25T23:18:35.780954Z",
     "iopub.status.busy": "2021-03-25T23:18:35.780451Z",
     "iopub.status.idle": "2021-03-25T23:18:35.799065Z",
     "shell.execute_reply": "2021-03-25T23:18:35.798376Z",
     "shell.execute_reply.started": "2021-03-25T23:18:35.780894Z"
    }
   },
   "outputs": [
    {
     "data": {
      "text/plain": [
       "array([  95.82592185,  134.02096689,  143.49550862,  161.65586612,\n",
       "        178.20239925,  181.03289975,  183.06451622,  191.89680499,\n",
       "        194.2469265 ,  200.17138228,  202.08765536,  211.66279487,\n",
       "        219.21156079,  223.01330503,  283.07280316,  288.70824511,\n",
       "        295.41913307,  304.01385379,  310.5645062 ,  315.61864369,\n",
       "        321.4274284 ,  328.72584674,  336.76973725,  342.40157472,\n",
       "        348.81427381,  355.41276751,  363.05164544,  368.57567617,\n",
       "        377.44368207,  386.44439841,  393.64058056,  401.95480713,\n",
       "        410.11076423,  415.35921601,  423.93624201,  430.20508954,\n",
       "        439.11634922,  446.65200793,  454.63855443,  462.51074058,\n",
       "        468.48402069,  475.06154286,  482.25444821,  489.65477505,\n",
       "        495.14177793,  500.446263  ,  507.30559004,  515.05555152,\n",
       "        520.98033498,  529.86505257,  537.48721882,  543.07875164,\n",
       "        548.8275709 ,  556.66862744,  564.53262159,  569.46944962,\n",
       "        578.00682632,  585.93144129,  592.92249571,  601.11023778,\n",
       "        606.24793369,  611.30174351,  617.5302864 ,  625.0118779 ,\n",
       "        632.65173887,  640.97153601,  647.29739988,  654.9660967 ,\n",
       "        661.97615657,  669.89782242,  675.27898463,  680.52088281,\n",
       "        687.32810871,  696.29278024,  702.09992655,  707.09049411,\n",
       "        713.96391139,  719.69470824,  726.25355265,  734.76307654,\n",
       "        740.84383572,  748.81793037,  757.03450828,  762.58803022,\n",
       "        771.22272791,  778.39695549,  786.58764668,  794.9454547 ,\n",
       "        800.50651328,  809.52164753,  816.43373106,  823.10398669,\n",
       "        832.18793377,  837.20832021,  844.9959649 ,  853.18174089,\n",
       "        858.76737547,  865.86328752,  871.7942969 ,  879.8958591 ,\n",
       "        888.93229256,  897.10659975,  903.85779236,  910.10960053,\n",
       "        916.55342923,  924.87453708,  930.26618506,  937.09831465,\n",
       "        943.04636339,  950.36280413,  956.35836649,  962.94080386,\n",
       "        968.377344  ,  977.32497616,  983.92871274,  989.5854539 ,\n",
       "        996.45067917, 1004.55781194, 1012.51322883, 1018.95378073,\n",
       "       1024.33035542, 1033.28552422, 1042.18597045, 1047.99672124,\n",
       "       1055.83384563, 1061.34247539, 1067.68111878, 1075.09586355,\n",
       "       1081.81297743, 1090.82581792, 1097.11825843, 1102.45714991,\n",
       "       1109.63891414, 1116.83083645, 1124.06634022, 1129.65426856,\n",
       "       1137.47631966, 1146.49178159, 1153.68992983, 1161.41957514,\n",
       "       1167.65303323, 1175.47016913, 1182.25642351, 1190.67223091,\n",
       "       1199.23516666, 1205.41226378, 1213.49350982, 1219.88130522,\n",
       "       1225.23985751, 1232.33445884, 1240.47632569, 1246.31722305,\n",
       "       1255.24027921, 1262.88571075, 1269.08640083, 1276.17641464,\n",
       "       1282.41708169, 1290.2866464 , 1296.73244118, 1305.71415207,\n",
       "       1311.13463589, 1319.76802286, 1327.19653018, 1334.31701824,\n",
       "       1339.86890177, 1346.86257764, 1353.88410631, 1362.76620246,\n",
       "       1370.15473282, 1377.42628139, 1385.84372719, 1390.92211301,\n",
       "       1396.22430432, 1401.40459865, 1410.32634408, 1419.29724153,\n",
       "       1428.25601481, 1433.59425093, 1439.63142866, 1445.09123409,\n",
       "       1450.29577674, 1458.27773571, 1464.62096663, 1471.25878193,\n",
       "       1479.66574197, 1488.70905671, 1495.81053932, 1504.80765118,\n",
       "       1511.74103391, 1519.30716687, 1524.43568774, 1529.95971847,\n",
       "       1538.65241553, 1544.5654025 , 1550.74479338, 1556.46510447,\n",
       "       1562.79522818, 1569.9920657 , 1577.81673824, 1583.45447395,\n",
       "       1591.13889942, 1597.20392995, 1602.17680278, 1608.16843298,\n",
       "       1615.980326  , 1624.46953373, 1632.81259615, 1641.49611817,\n",
       "       1647.13090476, 1652.21092898, 1661.11366897, 1668.76303267,\n",
       "       1675.31434044, 1681.4167265 , 1687.68950619, 1696.19673633,\n",
       "       1702.0028996 , 1710.5848408 , 1717.55590674, 1723.24082838,\n",
       "       1731.17003087, 1739.86764313, 1746.48546995, 1751.46522407,\n",
       "       1759.09394392, 1765.51090286, 1770.67972838, 1779.03163816,\n",
       "       1785.66945346, 1793.61995515, 1799.47658116, 1805.2339201 ,\n",
       "       1810.37882497, 1815.69248509, 1824.13483457, 1830.02521162,\n",
       "       1836.01159893, 1843.72715401, 1851.73172291, 1859.98991619,\n",
       "       1866.03823504, 1873.11546932, 1879.02649022, 1886.36619625,\n",
       "       1891.41902302, 1897.08952674, 1903.36591092, 1908.61141358,\n",
       "       1914.79866878, 1923.2075949 , 1930.43654506, 1938.96900656,\n",
       "       1945.72576973, 1951.23112269, 1957.77554918, 1963.23502693,\n",
       "       1968.28261082, 1974.16938339, 1980.69709819, 1988.38512814,\n",
       "       1995.33522255, 2002.29842417, 2008.54204034, 2013.85307902,\n",
       "       2021.2609425 , 2030.1702361 , 2036.24149255, 2042.16791441,\n",
       "       2048.90173997, 2055.2957613 , 2063.34358397, 2070.23731742,\n",
       "       2078.31430361, 2085.43741311, 2090.41618419, 2097.25224594,\n",
       "       2102.73171217, 2109.83876535, 2117.27874148, 2125.70110248,\n",
       "       2131.28673706, 2136.6459447 , 2145.32881136, 2151.3607462 ,\n",
       "       2157.95727382, 2163.87812512, 2170.253141  , 2176.56851911,\n",
       "       2181.73996607, 2188.28472023, 2194.65482091, 2201.39847688,\n",
       "       2210.43359962, 2215.56834642, 2221.39711961, 2229.96103841,\n",
       "       2235.02992151, 2241.36430506, 2249.32430947, 2254.23918293,\n",
       "       2260.24326497, 2268.40315423, 2276.39396057, 2283.11664501,\n",
       "       2288.2120702 , 2294.44126844, 2299.36171247, 2306.93144991,\n",
       "       2315.08904541, 2321.76749304, 2329.73765553, 2336.4813115 ,\n",
       "       2344.43443463, 2352.62807494, 2361.56980886, 2369.03993156,\n",
       "       2377.39872262, 2386.48856794, 2393.83384452, 2400.25408026,\n",
       "       2405.6742364 , 2414.76866923, 2422.70737444, 2429.86816715,\n",
       "       2437.56635518, 2443.61369098, 2451.62514117, 2456.61570873,\n",
       "       2461.62855853, 2467.10507565, 2473.49188801, 2481.49711227,\n",
       "       2487.96289554, 2495.43137984, 2502.97228143, 2508.95801338,\n",
       "       2513.98265967, 2518.88671969, 2525.59695229, 2532.35011098,\n",
       "       2539.34935741, 2545.86363733, 2553.50382598, 2561.42385342,\n",
       "       2570.26826636, 2575.27390721, 2581.0977652 , 2590.04244824,\n",
       "       2599.14048556, 2604.07862431, 2612.11596122, 2621.12486955,\n",
       "       2627.14009271, 2635.16890994, 2643.31274287, 2651.15969766,\n",
       "       2657.96659588, 2663.90055438, 2669.81419672, 2678.8388337 ,\n",
       "       2685.63229704, 2694.36857555, 2702.95018906, 2709.75282745,\n",
       "       2716.83497693, 2723.60091515, 2729.54470405, 2735.76505494,\n",
       "       2742.69974839, 2749.91428063, 2758.35564707, 2766.7134551 ,\n",
       "       2772.3167844 , 2780.37345443, 2785.63108126, 2791.76066476,\n",
       "       2797.40167727, 2804.50217684, 2809.69787213, 2817.47994626,\n",
       "       2825.06475699, 2832.98347371, 2838.07398369, 2844.95428225,\n",
       "       2853.67974732, 2858.70537665, 2864.7700795 , 2872.15009018,\n",
       "       2878.14499717, 2883.18832123, 2890.47887524, 2895.80564256,\n",
       "       2902.70527425, 2909.70189923, 2915.52936171, 2921.83458174,\n",
       "       2929.14545192, 2938.07506167, 2945.73687722, 2954.81590909,\n",
       "       2963.04493884, 2971.89459466, 2979.66356159, 2988.50305932,\n",
       "       2997.08794964, 3003.31157733, 3012.1192901 , 3018.86720591,\n",
       "       3025.74815983, 3033.56595109, 3039.91344184, 3047.94717427,\n",
       "       3053.6799372 , 3058.98966516, 3067.15250354, 3075.55422069,\n",
       "       3082.08914445, 3088.24625308, 3096.3986057 , 3105.260058  ,\n",
       "       3113.44878311, 3120.68690831, 3129.53918557, 3134.99636956,\n",
       "       3141.44314738, 3146.63359978, 3155.2876306 , 3161.76848714,\n",
       "       3168.20084704, 3175.78893457, 3184.32008535, 3191.27312889,\n",
       "       3199.83737536, 3208.2721882 , 3214.5302223 , 3222.94963418,\n",
       "       3230.35323782, 3238.91158605, 3247.33230865, 3253.30034588,\n",
       "       3259.76645682, 3266.20537032, 3274.66541452, 3281.13250851,\n",
       "       3286.29052059, 3292.09242402, 3298.12992942, 3306.20855402,\n",
       "       3314.26358566, 3321.89885911, 3330.99525803, 3336.43573033,\n",
       "       3343.66304209, 3350.20976234, 3355.23539167, 3361.02123877,\n",
       "       3368.02474504, 3376.26294984, 3381.32298557, 3388.41201634,\n",
       "       3396.92285096, 3401.92849181, 3407.16318102, 3414.87447626,\n",
       "       3420.93524695, 3426.33672532, 3432.82479083, 3439.87089551,\n",
       "       3447.5713773 , 3455.48452346, 3461.87821711, 3469.25003578,\n",
       "       3476.23748573, 3483.42875268, 3490.60887851, 3495.83373733,\n",
       "       3503.72558428, 3512.10764063, 3517.07002771, 3523.00136477,\n",
       "       3529.59559862, 3537.43337836, 3545.57426218, 3550.89119909,\n",
       "       3557.65582659, 3563.27652294, 3570.66833009, 3576.80545024,\n",
       "       3582.75939723, 3587.73521918, 3596.06255296, 3603.27970664,\n",
       "       3610.37266957, 3618.55516875, 3623.63781442, 3632.62738963,\n",
       "       3640.88263379, 3646.99419489, 3653.63954683, 3658.87226997,\n",
       "       3665.71947284, 3673.56675531, 3682.30631062, 3688.25468705,\n",
       "       3695.64452812, 3703.78573962, 3711.39152187, 3716.67929526,\n",
       "       3722.63750208, 3731.17127431, 3737.45879961, 3742.86453783,\n",
       "       3750.33498821, 3756.46555475, 3764.83974678, 3770.10261648,\n",
       "       3777.25816631, 3784.65619939, 3792.29474964, 3801.13588578,\n",
       "       3806.89486312, 3815.85429176, 3822.63399254, 3828.1327919 ,\n",
       "       3833.74529625, 3841.3641857 , 3849.61091018, 3858.66667676,\n",
       "       3866.28982606, 3875.20534557, 3883.43896285, 3889.63080557,\n",
       "       3897.15171867, 3904.04512444, 3910.70980951, 3916.21417943,\n",
       "       3923.5712525 , 3931.03220016, 3937.40524996, 3944.42415719,\n",
       "       3952.87633708, 3959.89426127, 3966.6713406 , 3972.83041532,\n",
       "       3981.03552443, 3987.55930706, 3993.61123039, 4000.59147137,\n",
       "       4006.98188822, 4011.98556298, 4017.1281741 , 4024.05205411,\n",
       "       4032.42231398, 4038.35037424, 4044.72506244, 4051.89961771,\n",
       "       4058.32804544, 4066.9879745 , 4075.53256017, 4080.7620065 ,\n",
       "       4088.87831431, 4094.5212929 , 4100.0210753 , 4106.12477208,\n",
       "       4112.24550823, 4118.82991168, 4123.9345119 , 4130.73420117,\n",
       "       4137.79898361, 4143.46358909, 4151.77584958, 4157.21501117,\n",
       "       4166.23407758, 4172.96397099, 4179.20922556, 4185.1261447 ,\n",
       "       4192.46814449, 4199.6748124 , 4206.44468278, 4212.89244364,\n",
       "       4221.152603  , 4227.42308894, 4235.3673647 , 4242.79390595,\n",
       "       4251.40009547, 4256.46570177, 4265.1983758 , 4274.14436956,\n",
       "       4282.15581975, 4288.53411243, 4293.8156599 , 4301.66425308,\n",
       "       4307.73649258, 4315.8524727 , 4324.85679352, 4333.06550711,\n",
       "       4338.74780731, 4346.14321895, 4353.38920848, 4361.18668357,\n",
       "       4367.71341533, 4372.76001618, 4378.55045081, 4384.86091372,\n",
       "       4392.83599141, 4398.60774827, 4406.77189737, 4415.14346796,\n",
       "       4423.47080174, 4432.07371446, 4437.14587436, 4446.07482875,\n",
       "       4452.77129879, 4458.72196898])"
      ]
     },
     "execution_count": 567,
     "metadata": {},
     "output_type": "execute_result"
    }
   ],
   "source": [
    "# Remap the stimulation times from TDT time space to SGLX time space, based on sync signal offset and drift between the two systems. \n",
    "sglx_stim_times = model.predict(stim_times.reshape((-1, 1)))\n",
    "sglx_stim_times"
   ]
  },
  {
   "cell_type": "code",
   "execution_count": 67,
   "metadata": {},
   "outputs": [],
   "source": [
    "def matlab_saveas_dialog():\n",
    "    # Get file from user\n",
    "    root = Tk()         # create the Tkinter widget\n",
    "    root.withdraw()     # hide the Tkinter root window\n",
    "\n",
    "    # Windows specific; forces the window to appear in front\n",
    "    root.attributes(\"-topmost\", True)\n",
    "\n",
    "    fullPath = Path(filedialog.asksaveasfilename(title=\"Save as\", defaultextension=\".mat\", filetypes=((\"MATLAB\", \"*.mat\"),)))\n",
    "\n",
    "    root.destroy()\n",
    "    \n",
    "    return fullPath"
   ]
  },
  {
   "cell_type": "code",
   "execution_count": null,
   "metadata": {},
   "outputs": [],
   "source": [
    "# Export the results for use in MATLAB. \n",
    "# The names of the SGLX and TDT files used are saved with the data. \n",
    "matlab_file = matlab_saveas_dialog()\n",
    "savemat(matlab_file, {'sglx_stim_times': sglx_stim_times, 'sglx_file': sglx_file.name, 'tdt_file': tdt_file.name})"
   ]
  }
 ],
 "metadata": {
  "kernelspec": {
   "display_name": "Python 3",
   "language": "python",
   "name": "python3"
  },
  "language_info": {
   "codemirror_mode": {
    "name": "ipython",
    "version": 3
   },
   "file_extension": ".py",
   "mimetype": "text/x-python",
   "name": "python",
   "nbconvert_exporter": "python",
   "pygments_lexer": "ipython3",
   "version": "3.8.5"
  }
 },
 "nbformat": 4,
 "nbformat_minor": 4
}
