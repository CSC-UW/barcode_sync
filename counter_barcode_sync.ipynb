{
 "cells": [
  {
   "cell_type": "code",
   "execution_count": 1,
   "metadata": {
    "execution": {
     "iopub.execute_input": "2021-03-25T19:47:53.905872Z",
     "iopub.status.busy": "2021-03-25T19:47:53.905653Z",
     "iopub.status.idle": "2021-03-25T19:47:54.330593Z",
     "shell.execute_reply": "2021-03-25T19:47:54.330106Z",
     "shell.execute_reply.started": "2021-03-25T19:47:53.905845Z"
    }
   },
   "outputs": [],
   "source": [
    "import tdt\n",
    "import numpy as np\n",
    "import matplotlib.pyplot as plt\n",
    "from pathlib import Path\n",
    "from tkinter import Tk\n",
    "from tkinter import filedialog\n",
    "from readSGLX import readMeta, SampRate, makeMemMapRaw, ExtractDigital\n",
    "from sklearn.linear_model import LinearRegression\n",
    "from scipy.io import savemat\n",
    "from warnings import warn\n",
    "from barcodes import extract_barcodes_from_times\n",
    "from difflib import SequenceMatcher"
   ]
  },
  {
   "cell_type": "code",
   "execution_count": 2,
   "metadata": {
    "execution": {
     "iopub.execute_input": "2021-03-25T19:47:54.335292Z",
     "iopub.status.busy": "2021-03-25T19:47:54.335163Z",
     "iopub.status.idle": "2021-03-25T19:47:54.340625Z",
     "shell.execute_reply": "2021-03-25T19:47:54.340236Z",
     "shell.execute_reply.started": "2021-03-25T19:47:54.335275Z"
    }
   },
   "outputs": [],
   "source": [
    "def plot_pulses(onset_times, offset_times, nPulsesToPlot=20):\n",
    "    '''Use onset and offset times to plot pulse waveforms. \n",
    "    Times should be in seconds. Plot only the first N pulses (default 100)'''\n",
    "    \n",
    "    #Interleave onset and offset times\n",
    "    edge_times = np.empty((onset_times.size + offset_times.size,), dtype=onset_times.dtype)\n",
    "    edge_times[0::2] = onset_times\n",
    "    edge_times[1::2] = offset_times\n",
    "    \n",
    "    # Figure out when pulses are high and when they are low\n",
    "    sync_levels = np.empty((onset_times.size + offset_times.size,), dtype=onset_times.dtype)\n",
    "    sync_levels[0::2] = 1\n",
    "    sync_levels[1::2] = 0\n",
    "\n",
    "    plt.figure(num=None, figsize=(30, 6), dpi=80, facecolor='w', edgecolor='k')\n",
    "    plt.step(edge_times[:nPulsesToPlot], sync_levels[:nPulsesToPlot], where='post')"
   ]
  },
  {
   "cell_type": "markdown",
   "metadata": {},
   "source": [
    "# Load SGLX"
   ]
  },
  {
   "cell_type": "code",
   "execution_count": 3,
   "metadata": {
    "execution": {
     "iopub.execute_input": "2021-03-25T19:47:55.261498Z",
     "iopub.status.busy": "2021-03-25T19:47:55.261175Z",
     "iopub.status.idle": "2021-03-25T19:47:55.271406Z",
     "shell.execute_reply": "2021-03-25T19:47:55.270596Z",
     "shell.execute_reply.started": "2021-03-25T19:47:55.261461Z"
    }
   },
   "outputs": [],
   "source": [
    "def select_sglx_file():\n",
    "    '''Select a SGLX binary file to extract the digtial sync bit from. \n",
    "    Using the LFP file is faster, but the AP file is maximally precise.'''\n",
    "\n",
    "    \n",
    "    # Get file from user\n",
    "    root = Tk()         # create the Tkinter widget\n",
    "    root.withdraw()     # hide the Tkinter root window\n",
    "\n",
    "    # Windows specific; forces the window to appear in front\n",
    "    root.attributes(\"-topmost\", True)\n",
    "\n",
    "    fullPath = Path(filedialog.askopenfilename(title=\"Select SpikeGLX binary file\"))\n",
    "\n",
    "    root.destroy()\n",
    "    \n",
    "    return fullPath"
   ]
  },
  {
   "cell_type": "code",
   "execution_count": 4,
   "metadata": {
    "execution": {
     "iopub.execute_input": "2021-03-25T19:47:55.732503Z",
     "iopub.status.busy": "2021-03-25T19:47:55.732288Z",
     "iopub.status.idle": "2021-03-25T19:47:55.742951Z",
     "shell.execute_reply": "2021-03-25T19:47:55.742054Z",
     "shell.execute_reply.started": "2021-03-25T19:47:55.732468Z"
    }
   },
   "outputs": [],
   "source": [
    "def sglx_load_sync(sglx_file):\n",
    "    '''Load the sync channel from the specified binary file. \n",
    "    The SpikeGLX metadata file must be present in the same directory as the binary file.'''\n",
    "    meta = readMeta(sglx_file)\n",
    "    rawData = makeMemMapRaw(sglx_file, meta)\n",
    "\n",
    "    # Read the entire file\n",
    "    firstSamp = 0\n",
    "    lastSamp = rawData.shape[1]-1\n",
    "\n",
    "    # Which digital word to read. \n",
    "    # For imec, there is only 1 digital word, dw = 0.\n",
    "    # For NI, digital lines 0-15 are in word 0, lines 16-31 are in word 1, etc.\n",
    "    dw = 0    \n",
    "    # Which lines within the digital word, zero-based\n",
    "    # Note that the SYNC line for PXI 3B is stored in line 6.\n",
    "    dLineList = [6]\n",
    "        \n",
    "    return ExtractDigital(rawData, firstSamp, lastSamp, dw, dLineList, meta)"
   ]
  },
  {
   "cell_type": "code",
   "execution_count": 5,
   "metadata": {
    "execution": {
     "iopub.execute_input": "2021-03-25T19:47:56.004632Z",
     "iopub.status.busy": "2021-03-25T19:47:56.004429Z",
     "iopub.status.idle": "2021-03-25T19:47:56.009543Z",
     "shell.execute_reply": "2021-03-25T19:47:56.008846Z",
     "shell.execute_reply.started": "2021-03-25T19:47:56.004607Z"
    }
   },
   "outputs": [],
   "source": [
    "def sglx_onset_samples(sync):\n",
    "    '''Extract the pulse rising edge samples from the SGLX sync channel.'''\n",
    "    # Onsets are the first samples where a value is high after being low. If sample 0 is high, the first onset is sample 0. Consistent with TDT convention.\n",
    "    onset_samples = np.where(np.diff(np.squeeze(sync), prepend=0) == 1)[0]\n",
    "    assert(onset_samples.dtype == np.dtype('int64')) # Make sure uint8s have been properly casted as int64s\n",
    "    return onset_samples"
   ]
  },
  {
   "cell_type": "code",
   "execution_count": 6,
   "metadata": {
    "execution": {
     "iopub.execute_input": "2021-03-25T19:47:56.604657Z",
     "iopub.status.busy": "2021-03-25T19:47:56.604292Z",
     "iopub.status.idle": "2021-03-25T19:47:56.612947Z",
     "shell.execute_reply": "2021-03-25T19:47:56.612075Z",
     "shell.execute_reply.started": "2021-03-25T19:47:56.604611Z"
    }
   },
   "outputs": [],
   "source": [
    "def sglx_offset_samples(sync):\n",
    "    '''Extract the pulse falling edge samples from the SGLX sync channel'''\n",
    "    # Offsets are the first samples wehre a value is low after being high. If the last sample is high, the last offset is Inf. Consistent with TDT convention.\n",
    "    offset_samples = np.where(np.diff(np.squeeze(sync), prepend=0) == -1)[0]\n",
    "    assert(offset_samples.dtype == np.dtype('int64')) # Make sure uint8s have been properly casted as int64s\n",
    "    if np.squeeze(sync)[-1] == 1:\n",
    "        offset_samples = np.append(offset_samples, np.Inf)\n",
    "    return offset_samples"
   ]
  },
  {
   "cell_type": "code",
   "execution_count": 7,
   "metadata": {
    "execution": {
     "iopub.execute_input": "2021-03-25T19:47:56.764312Z",
     "iopub.status.busy": "2021-03-25T19:47:56.764084Z",
     "iopub.status.idle": "2021-03-25T19:47:56.768516Z",
     "shell.execute_reply": "2021-03-25T19:47:56.767718Z",
     "shell.execute_reply.started": "2021-03-25T19:47:56.764275Z"
    }
   },
   "outputs": [],
   "source": [
    "def get_rising_edges(onset_times):\n",
    "    '''Assumes onset times follow TDT convention, as described above.'''\n",
    "    return onset_times[np.where(onset_times > 0)]"
   ]
  },
  {
   "cell_type": "code",
   "execution_count": 8,
   "metadata": {
    "execution": {
     "iopub.execute_input": "2021-03-25T19:47:57.708350Z",
     "iopub.status.busy": "2021-03-25T19:47:57.708206Z",
     "iopub.status.idle": "2021-03-25T19:47:57.712844Z",
     "shell.execute_reply": "2021-03-25T19:47:57.711981Z",
     "shell.execute_reply.started": "2021-03-25T19:47:57.708335Z"
    }
   },
   "outputs": [],
   "source": [
    "def get_falling_edges(offset_times):\n",
    "    '''Assumes offset times follow TDT convention, as described above '''\n",
    "    return offset_times[np.where(offset_times < np.Inf)]"
   ]
  },
  {
   "cell_type": "code",
   "execution_count": null,
   "metadata": {},
   "outputs": [],
   "source": [
    "sglx_file = select_sglx_file()"
   ]
  },
  {
   "cell_type": "code",
   "execution_count": 16,
   "metadata": {
    "execution": {
     "iopub.execute_input": "2021-03-25T19:52:35.291598Z",
     "iopub.status.busy": "2021-03-25T19:52:35.291235Z",
     "iopub.status.idle": "2021-03-25T19:53:18.906591Z",
     "shell.execute_reply": "2021-03-25T19:53:18.905835Z",
     "shell.execute_reply.started": "2021-03-25T19:52:35.291557Z"
    }
   },
   "outputs": [
    {
     "name": "stdout",
     "output_type": "stream",
     "text": [
      "nChan: 385, nFileSamp: 3915686\n"
     ]
    }
   ],
   "source": [
    "sglx_sync = sglx_load_sync(sglx_file)\n",
    "sglx_fs = SampRate(readMeta(sglx_file))\n",
    "# Times are in seconds from the start of the SGLX recording. \n",
    "sglx_onset_times = sglx_onset_samples(sglx_sync) / sglx_fs\n",
    "sglx_offset_times = sglx_offset_samples(sglx_sync) / sglx_fs"
   ]
  },
  {
   "cell_type": "code",
   "execution_count": 17,
   "metadata": {
    "execution": {
     "iopub.execute_input": "2021-03-25T19:54:55.165740Z",
     "iopub.status.busy": "2021-03-25T19:54:55.165207Z",
     "iopub.status.idle": "2021-03-25T19:54:55.296421Z",
     "shell.execute_reply": "2021-03-25T19:54:55.295775Z",
     "shell.execute_reply.started": "2021-03-25T19:54:55.165679Z"
    }
   },
   "outputs": [
    {
     "data": {
      "image/png": "[encoded data removed]",
      "text/plain": [
       "<Figure size 2400x480 with 1 Axes>"
      ]
     },
     "metadata": {},
     "output_type": "display_data"
    }
   ],
   "source": [
    "plot_pulses(sglx_onset_times, sglx_offset_times, nPulsesToPlot=20)"
   ]
  },
  {
   "cell_type": "code",
   "execution_count": 18,
   "metadata": {
    "execution": {
     "iopub.execute_input": "2021-03-25T19:55:01.818742Z",
     "iopub.status.busy": "2021-03-25T19:55:01.818242Z",
     "iopub.status.idle": "2021-03-25T19:55:01.838918Z",
     "shell.execute_reply": "2021-03-25T19:55:01.838056Z",
     "shell.execute_reply.started": "2021-03-25T19:55:01.818680Z"
    }
   },
   "outputs": [],
   "source": [
    "sglx_rising_edges = get_rising_edges(sglx_onset_times)\n",
    "sglx_falling_edges = get_falling_edges(sglx_offset_times)\n",
    "sglx_barcode_start_times, sglx_barcodes = extract_barcodes_from_times(sglx_rising_edges, sglx_falling_edges, bar_duration=0.029)"
   ]
  },
  {
   "cell_type": "markdown",
   "metadata": {},
   "source": [
    "# Load TDT"
   ]
  },
  {
   "cell_type": "code",
   "execution_count": 21,
   "metadata": {
    "execution": {
     "iopub.execute_input": "2021-03-25T19:55:40.939143Z",
     "iopub.status.busy": "2021-03-25T19:55:40.938671Z",
     "iopub.status.idle": "2021-03-25T19:55:40.949655Z",
     "shell.execute_reply": "2021-03-25T19:55:40.948817Z",
     "shell.execute_reply.started": "2021-03-25T19:55:40.939087Z"
    }
   },
   "outputs": [],
   "source": [
    "def select_tdt_block():\n",
    "    '''Select a TDT block to extract sync info from.'''\n",
    "    # Get file from user\n",
    "    root = Tk()         # create the Tkinter widget\n",
    "    root.withdraw()     # hide the Tkinter root window\n",
    "\n",
    "    # Windows specific; forces the window to appear in front\n",
    "    root.attributes(\"-topmost\", True)\n",
    "\n",
    "    fullPath = Path(filedialog.askdirectory(title=\"Select TDT block\"))\n",
    "\n",
    "    root.destroy()\n",
    "    \n",
    "    return fullPath"
   ]
  },
  {
   "cell_type": "code",
   "execution_count": 22,
   "metadata": {
    "execution": {
     "iopub.execute_input": "2021-03-25T19:56:51.028196Z",
     "iopub.status.busy": "2021-03-25T19:56:51.027813Z",
     "iopub.status.idle": "2021-03-25T19:56:51.033260Z",
     "shell.execute_reply": "2021-03-25T19:56:51.031926Z",
     "shell.execute_reply.started": "2021-03-25T19:56:51.028151Z"
    }
   },
   "outputs": [],
   "source": [
    "tdt_file = select_tdt_block()"
   ]
  },
  {
   "cell_type": "code",
   "execution_count": 23,
   "metadata": {
    "execution": {
     "iopub.execute_input": "2021-03-25T19:56:51.856886Z",
     "iopub.status.busy": "2021-03-25T19:56:51.856758Z",
     "iopub.status.idle": "2021-03-25T19:56:53.040212Z",
     "shell.execute_reply": "2021-03-25T19:56:53.039459Z",
     "shell.execute_reply.started": "2021-03-25T19:56:51.856871Z"
    }
   },
   "outputs": [
    {
     "name": "stdout",
     "output_type": "stream",
     "text": [
      "read from t=0s to t=4833.03s\n"
     ]
    }
   ],
   "source": [
    "tdt_data = tdt.read_block(tdt_file, evtype=['epocs'])\n",
    "# Here, we assume that your digital sync pulse is recorded on Port C0\n",
    "# YSK: TDT calls the onset of a signal that starts high \"0\", but the offset of a signal that ends high \"inf\"\n",
    "# Times are in seconds from the start of the TDT recording. \n",
    "tdt_onset_times = tdt_data.epocs.PC0_.onset \n",
    "tdt_offset_times = tdt_data.epocs.PC0_.offset"
   ]
  },
  {
   "cell_type": "code",
   "execution_count": 24,
   "metadata": {
    "execution": {
     "iopub.execute_input": "2021-03-25T19:57:12.386983Z",
     "iopub.status.busy": "2021-03-25T19:57:12.386541Z",
     "iopub.status.idle": "2021-03-25T19:57:12.501199Z",
     "shell.execute_reply": "2021-03-25T19:57:12.500600Z",
     "shell.execute_reply.started": "2021-03-25T19:57:12.386928Z"
    }
   },
   "outputs": [
    {
     "data": {
      "image/png": "[encoded data removed]",
      "text/plain": [
       "<Figure size 2400x480 with 1 Axes>"
      ]
     },
     "metadata": {},
     "output_type": "display_data"
    }
   ],
   "source": [
    "plot_pulses(tdt_onset_times, tdt_offset_times, nPulsesToPlot=20)"
   ]
  },
  {
   "cell_type": "code",
   "execution_count": 25,
   "metadata": {
    "execution": {
     "iopub.execute_input": "2021-03-25T19:57:14.810875Z",
     "iopub.status.busy": "2021-03-25T19:57:14.810594Z",
     "iopub.status.idle": "2021-03-25T19:57:14.849518Z",
     "shell.execute_reply": "2021-03-25T19:57:14.848910Z",
     "shell.execute_reply.started": "2021-03-25T19:57:14.810840Z"
    }
   },
   "outputs": [],
   "source": [
    "tdt_rising_edges = get_rising_edges(tdt_onset_times)\n",
    "tdt_falling_edges = get_falling_edges(tdt_offset_times)\n",
    "tdt_barcode_start_times, tdt_barcodes = extract_barcodes_from_times(tdt_rising_edges, tdt_falling_edges, bar_duration=0.029)"
   ]
  },
  {
   "cell_type": "markdown",
   "metadata": {},
   "source": [
    "# Use barcodes to align streams"
   ]
  },
  {
   "cell_type": "code",
   "execution_count": 28,
   "metadata": {
    "execution": {
     "iopub.execute_input": "2021-03-25T19:57:38.096523Z",
     "iopub.status.busy": "2021-03-25T19:57:38.096091Z",
     "iopub.status.idle": "2021-03-25T19:57:38.107865Z",
     "shell.execute_reply": "2021-03-25T19:57:38.106596Z",
     "shell.execute_reply.started": "2021-03-25T19:57:38.096468Z"
    }
   },
   "outputs": [
    {
     "name": "stdout",
     "output_type": "stream",
     "text": [
      "[  57.42691182   88.3845721   119.34223238  150.29989265  181.25755293\n",
      "  212.21481321  243.17247349  274.13013377  305.08779405  336.04545433\n",
      "  367.0031146   397.96077488  428.91843516  459.87609544  490.83375572\n",
      "  521.791416    552.74907628  583.70673655  614.66399683  645.62165711\n",
      "  676.57931739  707.53697767  738.49463795  769.45229823  800.4099585\n",
      "  831.36761878  862.32487906  893.28253934  924.24019962  955.1978599\n",
      "  986.15552018 1017.11318045 1048.07084073 1079.02850101 1109.98576129\n",
      " 1140.94342157 1171.90108185 1202.85874213 1233.81640241 1264.77406268\n",
      " 1295.73172296 1326.68898324 1357.64664352 1388.6043038  1419.56196408\n",
      " 1450.51962436 1481.47728463 1512.43494491 1543.39260519]\n",
      "[  57.82024192   88.77789184  119.7355008   150.69310976  181.65071872\n",
      "  212.60836864  243.56601856  274.52362752  305.48123648  336.43884544\n",
      "  367.39649536  398.35410432  429.31175424  460.2693632   491.22697216\n",
      "  522.18454016  553.14219008  584.09979904  615.057408    646.01501696\n",
      "  676.97262592  707.93023488  738.88784384  769.8454528   800.80306176\n",
      "  831.76067072  862.71827968  893.67584768  924.63345664  955.5910656\n",
      "  986.54867456 1017.50628352 1048.46389248 1079.42150144 1110.3791104\n",
      " 1141.3366784  1172.29428736 1203.25185536 1234.20946432 1265.16707328\n",
      " 1296.12464128 1327.08225024 1358.0398592  1388.99746816 1419.95507712\n",
      " 1450.91268608 1481.87029504 1512.827904   1543.78551296 1574.74312192\n",
      " 1605.70073088 1636.65833984 1667.61598976 1698.57363968 1729.53124864\n",
      " 1760.4888576  1791.44650752 1822.40415744 1853.3617664  1884.31941632\n",
      " 1915.27706624 1946.23471616 1977.19232512 2008.14997504 2039.107584\n",
      " 2070.06523392 2101.02288384 2131.98053376 2162.93818368 2193.8958336\n",
      " 2224.85348352 2255.81113344 2286.76878336 2317.72643328 2348.68404224\n",
      " 2379.64169216 2410.59934208 2441.556992   2472.51460096 2503.47225088\n",
      " 2534.4299008  2565.38750976 2596.34511872 2627.30272768 2658.26033664\n",
      " 2689.2179456  2720.17559552 2751.13324544 2782.0908544  2813.04850432\n",
      " 2844.00611328 2874.9637632  2905.92137216 2936.87898112 2967.83663104\n",
      " 2998.79419904 3029.751808   3060.70941696 3091.66702592 3122.62463488\n",
      " 3153.58220288 3184.53977088 3215.49733888 3246.45490688 3277.41247488\n",
      " 3308.37004288 3339.32765184 3370.28517888 3401.24278784 3432.20031488\n",
      " 3463.15788288 3494.11540992 3525.07293696 3556.030464   3586.98799104\n",
      " 3617.94551808 3648.90308608 3679.86061312 3710.81814016 3741.7756672\n",
      " 3772.73319424 3803.69072128 3834.64824832 3865.60581632 3896.56334336\n",
      " 3927.52091136 3958.47847936 3989.4360064  4020.39353344 4051.35110144\n",
      " 4082.30866944 4113.26623744 4144.22380544 4175.18137344 4206.1389824\n",
      " 4237.0965504  4268.05415936 4299.01172736 4329.96929536 4360.92686336\n",
      " 4391.88447232 4422.84204032 4453.79964928 4484.75725824 4515.71482624\n",
      " 4546.6724352  4577.6300032  4608.58761216 4639.54522112 4670.50278912\n",
      " 4701.46043904 4732.418048   4763.37565696 4794.33326592 4825.29091584]\n"
     ]
    }
   ],
   "source": [
    "print(sglx_barcode_start_times)\n",
    "print(tdt_barcode_start_times)"
   ]
  },
  {
   "cell_type": "code",
   "execution_count": 29,
   "metadata": {
    "execution": {
     "iopub.execute_input": "2021-03-25T19:57:51.261203Z",
     "iopub.status.busy": "2021-03-25T19:57:51.260743Z",
     "iopub.status.idle": "2021-03-25T19:57:51.268657Z",
     "shell.execute_reply": "2021-03-25T19:57:51.267567Z",
     "shell.execute_reply.started": "2021-03-25T19:57:51.261138Z"
    }
   },
   "outputs": [
    {
     "name": "stdout",
     "output_type": "stream",
     "text": [
      "SpikeGLX barcodes:\n",
      " [189665.0, 189663.0, 189661.0, 189659.0, 189657.0, 189655.0, 189653.0, 189651.0, 189649.0, 189647.0, 189645.0, 189643.0, 189641.0, 189639.0, 189637.0, 189635.0, 189633.0, 189631.0, 189629.0, 189627.0, 189625.0, 189623.0, 189621.0, 189619.0, 189617.0, 189615.0, 189613.0, 189611.0, 189609.0, 189607.0, 189605.0, 189603.0, 189601.0, 189599.0, 189597.0, 189595.0, 189593.0, 189591.0, 189589.0, 189587.0, 189585.0, 189583.0, 189581.0, 189579.0, 189577.0, 189575.0, 189573.0, 189571.0, 189569.0]\n",
      "TDT barcodes:\n",
      " [189665.0, 189663.0, 189661.0, 189659.0, 189657.0, 189655.0, 189653.0, 189651.0, 189649.0, 189647.0, 189645.0, 189643.0, 189641.0, 189639.0, 189637.0, 189635.0, 189633.0, 189631.0, 189629.0, 189627.0, 189625.0, 189623.0, 189621.0, 189619.0, 189617.0, 189615.0, 189613.0, 189611.0, 189609.0, 189607.0, 189605.0, 189603.0, 189601.0, 189599.0, 189597.0, 189595.0, 189593.0, 189591.0, 189589.0, 189587.0, 189585.0, 189583.0, 189581.0, 189579.0, 189577.0, 189575.0, 189573.0, 189571.0, 189569.0, 189567.0, 189565.0, 189563.0, 189561.0, 189559.0, 189557.0, 189555.0, 189553.0, 189551.0, 189549.0, 189547.0, 189545.0, 189543.0, 189541.0, 189539.0, 189537.0, 189535.0, 189533.0, 189531.0, 189529.0, 189527.0, 189525.0, 189523.0, 189521.0, 189519.0, 189517.0, 189515.0, 189513.0, 189511.0, 189509.0, 189507.0, 189505.0, 189503.0, 189501.0, 189499.0, 189497.0, 189495.0, 189493.0, 189491.0, 189489.0, 189487.0, 189485.0, 189483.0, 189481.0, 189479.0, 189477.0, 189475.0, 189473.0, 189471.0, 189469.0, 189467.0, 189465.0, 189463.0, 189461.0, 189459.0, 189457.0, 189455.0, 189453.0, 189451.0, 189449.0, 189447.0, 189445.0, 189443.0, 189441.0, 189439.0, 189437.0, 189435.0, 189433.0, 189431.0, 189429.0, 189427.0, 189425.0, 189423.0, 189421.0, 189419.0, 189417.0, 189415.0, 189413.0, 189411.0, 189409.0, 189407.0, 189405.0, 189403.0, 189401.0, 189399.0, 189397.0, 189395.0, 189393.0, 189391.0, 189389.0, 189387.0, 189385.0, 189383.0, 189381.0, 189379.0, 189377.0, 189375.0, 189373.0, 189371.0, 189369.0, 189367.0, 189365.0, 189363.0, 189361.0, 189359.0, 189357.0]\n"
     ]
    }
   ],
   "source": [
    "print(\"SpikeGLX barcodes:\\n\", sglx_barcodes)\n",
    "print(\"TDT barcodes:\\n\", tdt_barcodes)"
   ]
  },
  {
   "cell_type": "code",
   "execution_count": 30,
   "metadata": {
    "execution": {
     "iopub.execute_input": "2021-03-25T19:57:57.195696Z",
     "iopub.status.busy": "2021-03-25T19:57:57.195268Z",
     "iopub.status.idle": "2021-03-25T19:57:57.205230Z",
     "shell.execute_reply": "2021-03-25T19:57:57.203839Z",
     "shell.execute_reply.started": "2021-03-25T19:57:57.195641Z"
    }
   },
   "outputs": [
    {
     "name": "stdout",
     "output_type": "stream",
     "text": [
      "Longest barcode sequence common to both systems:\n",
      " [189665.0, 189663.0, 189661.0, 189659.0, 189657.0, 189655.0, 189653.0, 189651.0, 189649.0, 189647.0, 189645.0, 189643.0, 189641.0, 189639.0, 189637.0, 189635.0, 189633.0, 189631.0, 189629.0, 189627.0, 189625.0, 189623.0, 189621.0, 189619.0, 189617.0, 189615.0, 189613.0, 189611.0, 189609.0, 189607.0, 189605.0, 189603.0, 189601.0, 189599.0, 189597.0, 189595.0, 189593.0, 189591.0, 189589.0, 189587.0, 189585.0, 189583.0, 189581.0, 189579.0, 189577.0, 189575.0, 189573.0, 189571.0, 189569.0]\n"
     ]
    }
   ],
   "source": [
    "# Find the longest sequence of barcodes recorded by both systems\n",
    "s = SequenceMatcher(None, sglx_barcodes, tdt_barcodes)\n",
    "match = s.find_longest_match(alo=0, ahi=len(sglx_barcodes), blo=0, bhi=len(tdt_barcodes))\n",
    "shared_barcodes = sglx_barcodes[match.a : match.size]\n",
    "print(\"Longest barcode sequence common to both systems:\\n\", shared_barcodes)"
   ]
  },
  {
   "cell_type": "code",
   "execution_count": 31,
   "metadata": {
    "execution": {
     "iopub.execute_input": "2021-03-25T19:58:09.754846Z",
     "iopub.status.busy": "2021-03-25T19:58:09.754415Z",
     "iopub.status.idle": "2021-03-25T19:58:09.764899Z",
     "shell.execute_reply": "2021-03-25T19:58:09.763998Z",
     "shell.execute_reply.started": "2021-03-25T19:58:09.754790Z"
    }
   },
   "outputs": [],
   "source": [
    "# Using the barcodes shared by both systems, fit the TDT barcode times to the SGLX barcode times\n",
    "y = sglx_barcode_start_times[match.a : match.size]\n",
    "x = tdt_barcode_start_times[match.b : match.size].reshape((-1, 1))\n",
    "model = LinearRegression().fit(x, y)\n",
    "r_sq = model.score(x, y)"
   ]
  },
  {
   "cell_type": "code",
   "execution_count": 32,
   "metadata": {
    "execution": {
     "iopub.execute_input": "2021-03-25T19:58:11.732320Z",
     "iopub.status.busy": "2021-03-25T19:58:11.731928Z",
     "iopub.status.idle": "2021-03-25T19:58:11.739558Z",
     "shell.execute_reply": "2021-03-25T19:58:11.738480Z",
     "shell.execute_reply.started": "2021-03-25T19:58:11.732271Z"
    }
   },
   "outputs": [
    {
     "name": "stdout",
     "output_type": "stream",
     "text": [
      "coefficient of determination: 0.9999999999999283\n",
      "intercept: -0.3934003725061075\n",
      "drift rate in msec/hr: 0.8373584921450572\n"
     ]
    }
   ],
   "source": [
    "print('coefficient of determination:', r_sq)\n",
    "print('intercept:', model.intercept_)\n",
    "print('drift rate in msec/hr:', (model.coef_[0] - 1)*60*60*1000)"
   ]
  },
  {
   "cell_type": "code",
   "execution_count": 33,
   "metadata": {
    "execution": {
     "iopub.execute_input": "2021-03-25T19:58:18.917139Z",
     "iopub.status.busy": "2021-03-25T19:58:18.916692Z",
     "iopub.status.idle": "2021-03-25T19:58:18.928346Z",
     "shell.execute_reply": "2021-03-25T19:58:18.926965Z",
     "shell.execute_reply.started": "2021-03-25T19:58:18.917084Z"
    }
   },
   "outputs": [],
   "source": [
    "def visualize_mapping(sglx_rising_edges, tdt_rising_edges, model, nPulsesToPlot=10):\n",
    "    '''Visualize remapped TDT sync pulse times in SGLX time space, to verify correctness.\n",
    "    Black lines = Pulse times measured by SGLX.\n",
    "    Red lines = Pulse times measured by TDT and remapped to SGLX time space. '''\n",
    "    remapped_tdt_times = model.predict(tdt_rising_edges.reshape((-1, 1)))\n",
    "    \n",
    "    plt.figure(num=None, figsize=(30, 6), dpi=80, facecolor='w', edgecolor='k')\n",
    "    plt.vlines(sglx_rising_edges[:nPulsesToPlot], 0, 1, colors='black')\n",
    "    plt.vlines(remapped_tdt_times[:nPulsesToPlot], 0, 1, linestyle='dotted', colors='red')"
   ]
  },
  {
   "cell_type": "code",
   "execution_count": 34,
   "metadata": {
    "execution": {
     "iopub.execute_input": "2021-03-25T19:58:22.507917Z",
     "iopub.status.busy": "2021-03-25T19:58:22.507639Z",
     "iopub.status.idle": "2021-03-25T19:58:22.638201Z",
     "shell.execute_reply": "2021-03-25T19:58:22.637606Z",
     "shell.execute_reply.started": "2021-03-25T19:58:22.507882Z"
    }
   },
   "outputs": [
    {
     "data": {
      "image/png": "[encoded data removed]",
      "text/plain": [
       "<Figure size 2400x480 with 1 Axes>"
      ]
     },
     "metadata": {},
     "output_type": "display_data"
    }
   ],
   "source": [
    "visualize_mapping(sglx_rising_edges, tdt_rising_edges, model)"
   ]
  },
  {
   "cell_type": "markdown",
   "metadata": {},
   "source": [
    "# Get TDT stimulation times from epocs store. Best if ISI is fixed. "
   ]
  },
  {
   "cell_type": "code",
   "execution_count": 455,
   "metadata": {
    "execution": {
     "iopub.execute_input": "2021-03-25T22:29:45.138147Z",
     "iopub.status.busy": "2021-03-25T22:29:45.137639Z",
     "iopub.status.idle": "2021-03-25T22:29:45.149614Z",
     "shell.execute_reply": "2021-03-25T22:29:45.148642Z",
     "shell.execute_reply.started": "2021-03-25T22:29:45.138085Z"
    }
   },
   "outputs": [],
   "source": [
    "def get_stim_times_from_epocs(tdt_data):\n",
    "    '''Extract the time of each stimulation from a loaded TDT block.\n",
    "    Times are in seconds from the start of the TDT recording.\n",
    "    Only works if pulses are delivered at fixed intervals.'''\n",
    "    CntA = tdt_data.epocs.CntA \n",
    "    PeA_ = tdt_data.epocs.PeA_\n",
    "    \n",
    "    n_strobes = np.size(PeA_.onset) \n",
    "    stim_t = np.array([])\n",
    "    \n",
    "    for strobe in np.arange(n_strobes):\n",
    "        strobe_ISI = PeA_.data[strobe] / 1000 # Convert from msec to sec\n",
    "        n_strobe_stims = CntA.data[strobe] # The number of stimlations in this strobe\n",
    "        strobe_start = PeA_.onset[strobe] # The time that this strobe started\n",
    "        strobe_stims = strobe_start + np.arange(n_strobe_stims) * strobe_ISI # The time of each stimulation in this strobe\n",
    "        stim_t = np.append(stim_t, strobe_stims)\n",
    "        \n",
    "    return stim_t  "
   ]
  },
  {
   "cell_type": "code",
   "execution_count": 82,
   "metadata": {
    "execution": {
     "iopub.execute_input": "2021-03-25T20:05:51.844037Z",
     "iopub.status.busy": "2021-03-25T20:05:51.843891Z",
     "iopub.status.idle": "2021-03-25T20:08:03.039488Z",
     "shell.execute_reply": "2021-03-25T20:08:03.038451Z",
     "shell.execute_reply.started": "2021-03-25T20:05:51.844019Z"
    }
   },
   "outputs": [
    {
     "name": "stdout",
     "output_type": "stream",
     "text": [
      "read from t=0s to t=4833.03s\n"
     ]
    }
   ],
   "source": [
    "tdt_data = tdt.read_block(tdt_file, evtype=['epocs', 'streams'])\n",
    "stim_times = get_stim_times(tdt_data)"
   ]
  },
  {
   "cell_type": "code",
   "execution_count": 456,
   "metadata": {
    "execution": {
     "iopub.execute_input": "2021-03-25T22:29:48.458563Z",
     "iopub.status.busy": "2021-03-25T22:29:48.458057Z",
     "iopub.status.idle": "2021-03-25T22:29:48.469828Z",
     "shell.execute_reply": "2021-03-25T22:29:48.468803Z",
     "shell.execute_reply.started": "2021-03-25T22:29:48.458500Z"
    }
   },
   "outputs": [],
   "source": [
    "def visualize_stims_from_epocs(tdt_data, ch, first_stim=0, last_stim=4, before=100, after=100):\n",
    "    '''Visualize estimated stimulation times (block dotted lines) relative to the stimulator current stream.\n",
    "    first_stim is the 0-based index of the first stimulation to plot.\n",
    "    last_stim is the 0-based index of the last stimulation to plot. \n",
    "    before/after are the number of samples to plot before the first stim and after the last stim.\n",
    "    ch is the stimulator current channel to plot.'''\n",
    "    fs = tdt_data.streams.eS1r.fs\n",
    "    stim_times = get_stim_times_from_epocs(tdt_data)\n",
    "    stim_samples = np.rint(stim_times * fs).astype('int')\n",
    "    samplesToPlot = np.arange(stim_samples[first_stim] - before, stim_samples[last_stim] + after)\n",
    "\n",
    "    plt.figure(num=None, figsize=(30, 6), dpi=80, facecolor='w', edgecolor='k')\n",
    "    plt.plot(samplesToPlot, tdt_data.streams.eS1r.data[ch, samplesToPlot])\n",
    "    plt.vlines(stim_samples[first_stim : last_stim + 1], 0, 1000, linestyle='dotted', colors='black')"
   ]
  },
  {
   "cell_type": "code",
   "execution_count": 457,
   "metadata": {
    "execution": {
     "iopub.execute_input": "2021-03-25T22:29:49.094425Z",
     "iopub.status.busy": "2021-03-25T22:29:49.093921Z",
     "iopub.status.idle": "2021-03-25T22:29:49.358426Z",
     "shell.execute_reply": "2021-03-25T22:29:49.357731Z",
     "shell.execute_reply.started": "2021-03-25T22:29:49.094363Z"
    }
   },
   "outputs": [
    {
     "data": {
      "image/png": "[encoded data removed]",
      "text/plain": [
       "<Figure size 2400x480 with 1 Axes>"
      ]
     },
     "metadata": {},
     "output_type": "display_data"
    }
   ],
   "source": [
    "visualize_stims_from_epocs(tdt_data, ch=0, first_stim=1, last_stim=20)"
   ]
  },
  {
   "cell_type": "markdown",
   "metadata": {},
   "source": [
    "# Get TDT stimulation times from streams store. Necessary if ISI is jittered."
   ]
  },
  {
   "cell_type": "code",
   "execution_count": 458,
   "metadata": {
    "execution": {
     "iopub.execute_input": "2021-03-25T22:29:54.765776Z",
     "iopub.status.busy": "2021-03-25T22:29:54.765237Z",
     "iopub.status.idle": "2021-03-25T22:29:54.775187Z",
     "shell.execute_reply": "2021-03-25T22:29:54.774382Z",
     "shell.execute_reply.started": "2021-03-25T22:29:54.765714Z"
    }
   },
   "outputs": [],
   "source": [
    "def remove_trailing_events(events, fs, distance=0.01):\n",
    "    \"\"\"Remove events that trail the first event within a certain amount of time.\n",
    "    \n",
    "    Parameters:\n",
    "    ===========\n",
    "    events: (n_events,)\n",
    "        The sample numbers of each event. \n",
    "    fs:\n",
    "        The sample rate.\n",
    "    distance:\n",
    "        The minimum number of seconds that an event must trail its predecessor in order to avoid being removed.\n",
    "    \n",
    "    Returns:\n",
    "    ========\n",
    "    arr: (n,):\n",
    "        All events which did not trail another event by less than `distance` seconds.\n",
    "    \n",
    "    Examples:\n",
    "    =========\n",
    "    If events are samples that occur at times (0.1, 0.4, 1, 1.9, 3) and distance=1,\n",
    "        resulting samples be will be from times (0.1, 1.9, 3).\n",
    "    \"\"\"\n",
    "    if events.size == 0:\n",
    "        return []\n",
    "\n",
    "    leading = [events[0]]\n",
    "    trailing = np.where(events - events[0] <= int(fs * distance))\n",
    "    remaining = np.delete(events, trailing)\n",
    "    return leading + remove_trailing_events(remaining, fs, distance)"
   ]
  },
  {
   "cell_type": "code",
   "execution_count": 486,
   "metadata": {
    "execution": {
     "iopub.execute_input": "2021-03-25T22:45:49.842775Z",
     "iopub.status.busy": "2021-03-25T22:45:49.842281Z",
     "iopub.status.idle": "2021-03-25T22:45:49.849813Z",
     "shell.execute_reply": "2021-03-25T22:45:49.848529Z",
     "shell.execute_reply.started": "2021-03-25T22:45:49.842716Z"
    }
   },
   "outputs": [],
   "source": [
    "def assert_all_equal(arr):\n",
    "    \"\"\"Assert that all values in an array are equal, then return that value.\"\"\"\n",
    "    val = arr[0]\n",
    "    assert np.all(arr == val), \"All array values should be equal.\"\n",
    "    return val"
   ]
  },
  {
   "cell_type": "code",
   "execution_count": 553,
   "metadata": {
    "execution": {
     "iopub.execute_input": "2021-03-25T23:17:22.434071Z",
     "iopub.status.busy": "2021-03-25T23:17:22.433756Z",
     "iopub.status.idle": "2021-03-25T23:17:22.461120Z",
     "shell.execute_reply": "2021-03-25T23:17:22.460132Z",
     "shell.execute_reply.started": "2021-03-25T23:17:22.434035Z"
    }
   },
   "outputs": [],
   "source": [
    "def get_stim_times_from_streams(tdt_data, isi_floor=0.01):\n",
    "    \"\"\"Get stimulation times by detecting the leading edges in the rectified, idealized current traces.\n",
    "    Note that idealized current is found in the eS1r stream store, while the actual current is found\n",
    "    in the IZ2n stream store. \n",
    "    \n",
    "    Parameters:\n",
    "    ===========\n",
    "    tdt_data: TDT block with epocs and streams stores. \n",
    "    isi_floor:\n",
    "        The mimimum interstimulation interval. This value must be longer than the duration of any single stimulation pulse. \n",
    "        \n",
    "    Returns:\n",
    "    ========\n",
    "    times: (n_stimulations,)\n",
    "        Stimulation times, in seconds from the start of the TDT recording.\n",
    "    \"\"\"\n",
    "    fs = tdt_data.streams.eS1r.fs\n",
    "    \n",
    "    # Get the channel number for each of the bipolar stimulation channels\n",
    "    chA = assert_all_equal(tdt_data.epocs.ChnA.data)\n",
    "    chB = assert_all_equal(tdt_data.epocs.ChnB.data)\n",
    "    \n",
    "    # Get the corresponding indexes into the idealized current trace data.\n",
    "    iA = np.where(tdt_data.streams.eS1r.channel == chA)[0][0]\n",
    "    iB = np.where(tdt_data.streams.eS1r.channel == chB)[0][0]\n",
    "    \n",
    "    # Get the rectified, idealized current traces for each stimulatin channel.\n",
    "    datA = np.abs(tdt_data.streams.eS1r.data[iA])\n",
    "    datB = np.abs(tdt_data.streams.eS1r.data[iB])\n",
    "    \n",
    "    # This is the maximum pulse amplitude delivered.\n",
    "    max_pulse_amp = tdt_data.epocs.AmpA.data.max()\n",
    "    \n",
    "    # TDT gives nonsense current trace values until the first pulse is delivered. Remove these. \n",
    "    datA[datA > max_pulse_amp] = 0\n",
    "    datB[datB > max_pulse_amp] = 0\n",
    "\n",
    "    assert np.isin(datA, [0, max_pulse_amp]).all(), \"Unexpected values in eS1r. All pulse amplitudes should be the same.\"\n",
    "    assert np.isin(datB, [0, max_pulse_amp]).all(), \"Unexpected values in eS1r. All pulse amplitudes should be the same.\"\n",
    "\n",
    "    # Get all samples from both channels where current is nonzero. \n",
    "    events = np.sort(np.concatenate(np.where(datA) + np.where(datB)))\n",
    "    # Get the first sample (on either channel) where each pulse's current is nonzero.\n",
    "    stim_samples = remove_trailing_events(events, fs, distance=isi_floor)\n",
    "    \n",
    "    assert len(stim_samples) == tdt_data.epocs.CntA.data.sum(), \"Number of stimulations detected does not match epoc store.\"\n",
    "    \n",
    "    return stim_samples / fs"
   ]
  },
  {
   "cell_type": "code",
   "execution_count": 552,
   "metadata": {
    "execution": {
     "iopub.execute_input": "2021-03-25T23:02:45.151049Z",
     "iopub.status.busy": "2021-03-25T23:02:45.150496Z",
     "iopub.status.idle": "2021-03-25T23:04:52.092116Z",
     "shell.execute_reply": "2021-03-25T23:04:52.090925Z",
     "shell.execute_reply.started": "2021-03-25T23:02:45.150987Z"
    }
   },
   "outputs": [
    {
     "name": "stdout",
     "output_type": "stream",
     "text": [
      "read from t=0s to t=4833.03s\n"
     ]
    }
   ],
   "source": [
    "tdt_data = tdt.read_block(tdt_file, evtype=['epocs', 'streams'])\n",
    "stim_times = get_stim_times_from_streams(tdt_data, ch=0)"
   ]
  },
  {
   "cell_type": "code",
   "execution_count": 555,
   "metadata": {
    "execution": {
     "iopub.execute_input": "2021-03-25T23:17:52.199599Z",
     "iopub.status.busy": "2021-03-25T23:17:52.199084Z",
     "iopub.status.idle": "2021-03-25T23:17:52.213030Z",
     "shell.execute_reply": "2021-03-25T23:17:52.212386Z",
     "shell.execute_reply.started": "2021-03-25T23:17:52.199536Z"
    }
   },
   "outputs": [],
   "source": [
    "def visualize_stims_from_streams(tdt_data, ch, first_stim=0, last_stim=4, before=100, after=100):\n",
    "    '''Visualize estimated stimulation times (block dotted lines) relative to the stimulator current stream.\n",
    "    first_stim is the 0-based index of the first stimulation to plot.\n",
    "    last_stim is the 0-based index of the last stimulation to plot. \n",
    "    before/after are the number of samples to plot before the first stim and after the last stim.\n",
    "    ch is the stimulator current channel to plot.'''\n",
    "    fs = tdt_data.streams.eS1r.fs\n",
    "    stim_samples = np.rint(get_stim_times_from_streams(tdt_data) * fs).astype('int')\n",
    "    samplesToPlot = np.arange(stim_samples[first_stim] - before, stim_samples[last_stim] + after)\n",
    "\n",
    "    plt.figure(num=None, figsize=(30, 6), dpi=80, facecolor='w', edgecolor='k')\n",
    "    plt.plot(samplesToPlot, tdt_data.streams.eS1r.data[ch, samplesToPlot])\n",
    "    plt.vlines(stim_samples[first_stim : last_stim + 1], 0, 1000, linestyle='dotted', colors='black')"
   ]
  },
  {
   "cell_type": "code",
   "execution_count": 566,
   "metadata": {
    "execution": {
     "iopub.execute_input": "2021-03-25T23:18:31.888263Z",
     "iopub.status.busy": "2021-03-25T23:18:31.887757Z",
     "iopub.status.idle": "2021-03-25T23:18:33.149379Z",
     "shell.execute_reply": "2021-03-25T23:18:33.148663Z",
     "shell.execute_reply.started": "2021-03-25T23:18:31.888202Z"
    }
   },
   "outputs": [
    {
     "data": {
      "image/png": "[encoded data removed]",
      "text/plain": [
       "<Figure size 2400x480 with 1 Axes>"
      ]
     },
     "metadata": {},
     "output_type": "display_data"
    }
   ],
   "source": [
    "visualize_stims_from_streams(tdt_data, ch=0, first_stim=1, last_stim=100)"
   ]
  },
  {
   "cell_type": "markdown",
   "metadata": {},
   "source": [
    "# Remap stimulation times from TDT space to SGLX space, and save. "
   ]
  },
  {
   "cell_type": "code",
   "execution_count": 567,
   "metadata": {
    "execution": {
     "iopub.execute_input": "2021-03-25T23:18:35.780954Z",
     "iopub.status.busy": "2021-03-25T23:18:35.780451Z",
     "iopub.status.idle": "2021-03-25T23:18:35.799065Z",
     "shell.execute_reply": "2021-03-25T23:18:35.798376Z",
     "shell.execute_reply.started": "2021-03-25T23:18:35.780894Z"
    }
   },
   "outputs": [
    {
     "data": {
      "text/plain": [
       "array([  95.82592185,  134.02096689,  143.49550862,  161.65586612,\n",
       "        178.20239925,  181.03289975,  183.06451622,  191.89680499,\n",
       "        194.2469265 ,  200.17138228,  202.08765536,  211.66279487,\n",
       "        219.21156079,  223.01330503,  283.07280316,  288.70824511,\n",
       "        295.41913307,  304.01385379,  310.5645062 ,  315.61864369,\n",
       "        321.4274284 ,  328.72584674,  336.76973725,  342.40157472,\n",
       "        348.81427381,  355.41276751,  363.05164544,  368.57567617,\n",
       "        377.44368207,  386.44439841,  393.64058056,  401.95480713,\n",
       "        410.11076423,  415.35921601,  423.93624201,  430.20508954,\n",
       "        439.11634922,  446.65200793,  454.63855443,  462.51074058,\n",
       "        468.48402069,  475.06154286,  482.25444821,  489.65477505,\n",
       "        495.14177793,  500.446263  ,  507.30559004,  515.05555152,\n",
       "        520.98033498,  529.86505257,  537.48721882,  543.07875164,\n",
       "        548.8275709 ,  556.66862744,  564.53262159,  569.46944962,\n",
       "        578.00682632,  585.93144129,  592.92249571,  601.11023778,\n",
       "        606.24793369,  611.30174351,  617.5302864 ,  625.0118779 ,\n",
       "        632.65173887,  640.97153601,  647.29739988,  654.9660967 ,\n",
       "        661.97615657,  669.89782242,  675.27898463,  680.52088281,\n",
       "        687.32810871,  696.29278024,  702.09992655,  707.09049411,\n",
       "        713.96391139,  719.69470824,  726.25355265,  734.76307654,\n",
       "        740.84383572,  748.81793037,  757.03450828,  762.58803022,\n",
       "        771.22272791,  778.39695549,  786.58764668,  794.9454547 ,\n",
       "        800.50651328,  809.52164753,  816.43373106,  823.10398669,\n",
       "        832.18793377,  837.20832021,  844.9959649 ,  853.18174089,\n",
       "        858.76737547,  865.86328752,  871.7942969 ,  879.8958591 ,\n",
       "        888.93229256,  897.10659975,  903.85779236,  910.10960053,\n",
       "        916.55342923,  924.87453708,  930.26618506,  937.09831465,\n",
       "        943.04636339,  950.36280413,  956.35836649,  962.94080386,\n",
       "        968.377344  ,  977.32497616,  983.92871274,  989.5854539 ,\n",
       "        996.45067917, 1004.55781194, 1012.51322883, 1018.95378073,\n",
       "       1024.33035542, 1033.28552422, 1042.18597045, 1047.99672124,\n",
       "       1055.83384563, 1061.34247539, 1067.68111878, 1075.09586355,\n",
       "       1081.81297743, 1090.82581792, 1097.11825843, 1102.45714991,\n",
       "       1109.63891414, 1116.83083645, 1124.06634022, 1129.65426856,\n",
       "       1137.47631966, 1146.49178159, 1153.68992983, 1161.41957514,\n",
       "       1167.65303323, 1175.47016913, 1182.25642351, 1190.67223091,\n",
       "       1199.23516666, 1205.41226378, 1213.49350982, 1219.88130522,\n",
       "       1225.23985751, 1232.33445884, 1240.47632569, 1246.31722305,\n",
       "       1255.24027921, 1262.88571075, 1269.08640083, 1276.17641464,\n",
       "       1282.41708169, 1290.2866464 , 1296.73244118, 1305.71415207,\n",
       "       1311.13463589, 1319.76802286, 1327.19653018, 1334.31701824,\n",
       "       1339.86890177, 1346.86257764, 1353.88410631, 1362.76620246,\n",
       "       1370.15473282, 1377.42628139, 1385.84372719, 1390.92211301,\n",
       "       1396.22430432, 1401.40459865, 1410.32634408, 1419.29724153,\n",
       "       1428.25601481, 1433.59425093, 1439.63142866, 1445.09123409,\n",
       "       1450.29577674, 1458.27773571, 1464.62096663, 1471.25878193,\n",
       "       1479.66574197, 1488.70905671, 1495.81053932, 1504.80765118,\n",
       "       1511.74103391, 1519.30716687, 1524.43568774, 1529.95971847,\n",
       "       1538.65241553, 1544.5654025 , 1550.74479338, 1556.46510447,\n",
       "       1562.79522818, 1569.9920657 , 1577.81673824, 1583.45447395,\n",
       "       1591.13889942, 1597.20392995, 1602.17680278, 1608.16843298,\n",
       "       1615.980326  , 1624.46953373, 1632.81259615, 1641.49611817,\n",
       "       1647.13090476, 1652.21092898, 1661.11366897, 1668.76303267,\n",
       "       1675.31434044, 1681.4167265 , 1687.68950619, 1696.19673633,\n",
       "       1702.0028996 , 1710.5848408 , 1717.55590674, 1723.24082838,\n",
       "       1731.17003087, 1739.86764313, 1746.48546995, 1751.46522407,\n",
       "       1759.09394392, 1765.51090286, 1770.67972838, 1779.03163816,\n",
       "       1785.66945346, 1793.61995515, 1799.47658116, 1805.2339201 ,\n",
       "       1810.37882497, 1815.69248509, 1824.13483457, 1830.02521162,\n",
       "       1836.01159893, 1843.72715401, 1851.73172291, 1859.98991619,\n",
       "       1866.03823504, 1873.11546932, 1879.02649022, 1886.36619625,\n",
       "       1891.41902302, 1897.08952674, 1903.36591092, 1908.61141358,\n",
       "       1914.79866878, 1923.2075949 , 1930.43654506, 1938.96900656,\n",
       "       1945.72576973, 1951.23112269, 1957.77554918, 1963.23502693,\n",
       "       1968.28261082, 1974.16938339, 1980.69709819, 1988.38512814,\n",
       "       1995.33522255, 2002.29842417, 2008.54204034, 2013.85307902,\n",
       "       2021.2609425 , 2030.1702361 , 2036.24149255, 2042.16791441,\n",
       "       2048.90173997, 2055.2957613 , 2063.34358397, 2070.23731742,\n",
       "       2078.31430361, 2085.43741311, 2090.41618419, 2097.25224594,\n",
       "       2102.73171217, 2109.83876535, 2117.27874148, 2125.70110248,\n",
       "       2131.28673706, 2136.6459447 , 2145.32881136, 2151.3607462 ,\n",
       "       2157.95727382, 2163.87812512, 2170.253141  , 2176.56851911,\n",
       "       2181.73996607, 2188.28472023, 2194.65482091, 2201.39847688,\n",
       "       2210.43359962, 2215.56834642, 2221.39711961, 2229.96103841,\n",
       "       2235.02992151, 2241.36430506, 2249.32430947, 2254.23918293,\n",
       "       2260.24326497, 2268.40315423, 2276.39396057, 2283.11664501,\n",
       "       2288.2120702 , 2294.44126844, 2299.36171247, 2306.93144991,\n",
       "       2315.08904541, 2321.76749304, 2329.73765553, 2336.4813115 ,\n",
       "       2344.43443463, 2352.62807494, 2361.56980886, 2369.03993156,\n",
       "       2377.39872262, 2386.48856794, 2393.83384452, 2400.25408026,\n",
       "       2405.6742364 , 2414.76866923, 2422.70737444, 2429.86816715,\n",
       "       2437.56635518, 2443.61369098, 2451.62514117, 2456.61570873,\n",
       "       2461.62855853, 2467.10507565, 2473.49188801, 2481.49711227,\n",
       "       2487.96289554, 2495.43137984, 2502.97228143, 2508.95801338,\n",
       "       2513.98265967, 2518.88671969, 2525.59695229, 2532.35011098,\n",
       "       2539.34935741, 2545.86363733, 2553.50382598, 2561.42385342,\n",
       "       2570.26826636, 2575.27390721, 2581.0977652 , 2590.04244824,\n",
       "       2599.14048556, 2604.07862431, 2612.11596122, 2621.12486955,\n",
       "       2627.14009271, 2635.16890994, 2643.31274287, 2651.15969766,\n",
       "       2657.96659588, 2663.90055438, 2669.81419672, 2678.8388337 ,\n",
       "       2685.63229704, 2694.36857555, 2702.95018906, 2709.75282745,\n",
       "       2716.83497693, 2723.60091515, 2729.54470405, 2735.76505494,\n",
       "       2742.69974839, 2749.91428063, 2758.35564707, 2766.7134551 ,\n",
       "       2772.3167844 , 2780.37345443, 2785.63108126, 2791.76066476,\n",
       "       2797.40167727, 2804.50217684, 2809.69787213, 2817.47994626,\n",
       "       2825.06475699, 2832.98347371, 2838.07398369, 2844.95428225,\n",
       "       2853.67974732, 2858.70537665, 2864.7700795 , 2872.15009018,\n",
       "       2878.14499717, 2883.18832123, 2890.47887524, 2895.80564256,\n",
       "       2902.70527425, 2909.70189923, 2915.52936171, 2921.83458174,\n",
       "       2929.14545192, 2938.07506167, 2945.73687722, 2954.81590909,\n",
       "       2963.04493884, 2971.89459466, 2979.66356159, 2988.50305932,\n",
       "       2997.08794964, 3003.31157733, 3012.1192901 , 3018.86720591,\n",
       "       3025.74815983, 3033.56595109, 3039.91344184, 3047.94717427,\n",
       "       3053.6799372 , 3058.98966516, 3067.15250354, 3075.55422069,\n",
       "       3082.08914445, 3088.24625308, 3096.3986057 , 3105.260058  ,\n",
       "       3113.44878311, 3120.68690831, 3129.53918557, 3134.99636956,\n",
       "       3141.44314738, 3146.63359978, 3155.2876306 , 3161.76848714,\n",
       "       3168.20084704, 3175.78893457, 3184.32008535, 3191.27312889,\n",
       "       3199.83737536, 3208.2721882 , 3214.5302223 , 3222.94963418,\n",
       "       3230.35323782, 3238.91158605, 3247.33230865, 3253.30034588,\n",
       "       3259.76645682, 3266.20537032, 3274.66541452, 3281.13250851,\n",
       "       3286.29052059, 3292.09242402, 3298.12992942, 3306.20855402,\n",
       "       3314.26358566, 3321.89885911, 3330.99525803, 3336.43573033,\n",
       "       3343.66304209, 3350.20976234, 3355.23539167, 3361.02123877,\n",
       "       3368.02474504, 3376.26294984, 3381.32298557, 3388.41201634,\n",
       "       3396.92285096, 3401.92849181, 3407.16318102, 3414.87447626,\n",
       "       3420.93524695, 3426.33672532, 3432.82479083, 3439.87089551,\n",
       "       3447.5713773 , 3455.48452346, 3461.87821711, 3469.25003578,\n",
       "       3476.23748573, 3483.42875268, 3490.60887851, 3495.83373733,\n",
       "       3503.72558428, 3512.10764063, 3517.07002771, 3523.00136477,\n",
       "       3529.59559862, 3537.43337836, 3545.57426218, 3550.89119909,\n",
       "       3557.65582659, 3563.27652294, 3570.66833009, 3576.80545024,\n",
       "       3582.75939723, 3587.73521918, 3596.06255296, 3603.27970664,\n",
       "       3610.37266957, 3618.55516875, 3623.63781442, 3632.62738963,\n",
       "       3640.88263379, 3646.99419489, 3653.63954683, 3658.87226997,\n",
       "       3665.71947284, 3673.56675531, 3682.30631062, 3688.25468705,\n",
       "       3695.64452812, 3703.78573962, 3711.39152187, 3716.67929526,\n",
       "       3722.63750208, 3731.17127431, 3737.45879961, 3742.86453783,\n",
       "       3750.33498821, 3756.46555475, 3764.83974678, 3770.10261648,\n",
       "       3777.25816631, 3784.65619939, 3792.29474964, 3801.13588578,\n",
       "       3806.89486312, 3815.85429176, 3822.63399254, 3828.1327919 ,\n",
       "       3833.74529625, 3841.3641857 , 3849.61091018, 3858.66667676,\n",
       "       3866.28982606, 3875.20534557, 3883.43896285, 3889.63080557,\n",
       "       3897.15171867, 3904.04512444, 3910.70980951, 3916.21417943,\n",
       "       3923.5712525 , 3931.03220016, 3937.40524996, 3944.42415719,\n",
       "       3952.87633708, 3959.89426127, 3966.6713406 , 3972.83041532,\n",
       "       3981.03552443, 3987.55930706, 3993.61123039, 4000.59147137,\n",
       "       4006.98188822, 4011.98556298, 4017.1281741 , 4024.05205411,\n",
       "       4032.42231398, 4038.35037424, 4044.72506244, 4051.89961771,\n",
       "       4058.32804544, 4066.9879745 , 4075.53256017, 4080.7620065 ,\n",
       "       4088.87831431, 4094.5212929 , 4100.0210753 , 4106.12477208,\n",
       "       4112.24550823, 4118.82991168, 4123.9345119 , 4130.73420117,\n",
       "       4137.79898361, 4143.46358909, 4151.77584958, 4157.21501117,\n",
       "       4166.23407758, 4172.96397099, 4179.20922556, 4185.1261447 ,\n",
       "       4192.46814449, 4199.6748124 , 4206.44468278, 4212.89244364,\n",
       "       4221.152603  , 4227.42308894, 4235.3673647 , 4242.79390595,\n",
       "       4251.40009547, 4256.46570177, 4265.1983758 , 4274.14436956,\n",
       "       4282.15581975, 4288.53411243, 4293.8156599 , 4301.66425308,\n",
       "       4307.73649258, 4315.8524727 , 4324.85679352, 4333.06550711,\n",
       "       4338.74780731, 4346.14321895, 4353.38920848, 4361.18668357,\n",
       "       4367.71341533, 4372.76001618, 4378.55045081, 4384.86091372,\n",
       "       4392.83599141, 4398.60774827, 4406.77189737, 4415.14346796,\n",
       "       4423.47080174, 4432.07371446, 4437.14587436, 4446.07482875,\n",
       "       4452.77129879, 4458.72196898])"
      ]
     },
     "execution_count": 567,
     "metadata": {},
     "output_type": "execute_result"
    }
   ],
   "source": [
    "# Remap the stimulation times from TDT time space to SGLX time space, based on sync signal offset and drift between the two systems. \n",
    "sglx_stim_times = model.predict(stim_times.reshape((-1, 1)))\n",
    "sglx_stim_times"
   ]
  },
  {
   "cell_type": "code",
   "execution_count": 67,
   "metadata": {},
   "outputs": [],
   "source": [
    "def matlab_saveas_dialog():\n",
    "    # Get file from user\n",
    "    root = Tk()         # create the Tkinter widget\n",
    "    root.withdraw()     # hide the Tkinter root window\n",
    "\n",
    "    # Windows specific; forces the window to appear in front\n",
    "    root.attributes(\"-topmost\", True)\n",
    "\n",
    "    fullPath = Path(filedialog.asksaveasfilename(title=\"Save as\", defaultextension=\".mat\", filetypes=((\"MATLAB\", \"*.mat\"),)))\n",
    "\n",
    "    root.destroy()\n",
    "    \n",
    "    return fullPath"
   ]
  },
  {
   "cell_type": "code",
   "execution_count": null,
   "metadata": {},
   "outputs": [],
   "source": [
    "# Export the results for use in MATLAB. \n",
    "# The names of the SGLX and TDT files used are saved with the data. \n",
    "matlab_file = matlab_saveas_dialog()\n",
    "savemat(matlab_file, {'sglx_stim_times': sglx_stim_times, 'sglx_file': sglx_file.name, 'tdt_file': tdt_file.name})"
   ]
  }
 ],
 "metadata": {
  "kernelspec": {
   "display_name": "Python 3",
   "language": "python",
   "name": "python3"
  },
  "language_info": {
   "codemirror_mode": {
    "name": "ipython",
    "version": 3
   },
   "file_extension": ".py",
   "mimetype": "text/x-python",
   "name": "python",
   "nbconvert_exporter": "python",
   "pygments_lexer": "ipython3",
   "version": "3.7.9"
  }
 },
 "nbformat": 4,
 "nbformat_minor": 4
}
