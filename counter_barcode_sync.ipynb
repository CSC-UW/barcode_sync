{
 "cells": [
  {
   "cell_type": "code",
   "execution_count": 14,
   "metadata": {},
   "outputs": [],
   "source": [
    "import tdt\n",
    "import numpy as np\n",
    "import matplotlib.pyplot as plt\n",
    "from pathlib import Path\n",
    "from tkinter import Tk\n",
    "from tkinter import filedialog\n",
    "from readSGLX import readMeta, SampRate, makeMemMapRaw, ExtractDigital\n",
    "from sklearn.linear_model import LinearRegression\n",
    "from scipy.io import savemat\n",
    "from warnings import warn\n",
    "from barcodes import extract_barcodes_from_times"
   ]
  },
  {
   "cell_type": "code",
   "execution_count": 2,
   "metadata": {},
   "outputs": [],
   "source": [
    "def plot_pulses(onset_times, offset_times, nPulsesToPlot=20):\n",
    "    '''Use onset and offset times to plot pulse waveforms. \n",
    "    Times should be in seconds. Plot only the first N pulses (default 100)'''\n",
    "    \n",
    "    #Interleave onset and offset times\n",
    "    edge_times = np.empty((onset_times.size + offset_times.size,), dtype=onset_times.dtype)\n",
    "    edge_times[0::2] = onset_times\n",
    "    edge_times[1::2] = offset_times\n",
    "    \n",
    "    # Figure out when pulses are high and when they are low\n",
    "    sync_levels = np.empty((onset_times.size + offset_times.size,), dtype=onset_times.dtype)\n",
    "    sync_levels[0::2] = 1\n",
    "    sync_levels[1::2] = 0\n",
    "\n",
    "    plt.figure(num=None, figsize=(30, 6), dpi=80, facecolor='w', edgecolor='k')\n",
    "    plt.step(edge_times[:nPulsesToPlot], sync_levels[:nPulsesToPlot], where='post')"
   ]
  },
  {
   "cell_type": "markdown",
   "metadata": {},
   "source": [
    "# Load SGLX"
   ]
  },
  {
   "cell_type": "code",
   "execution_count": 3,
   "metadata": {},
   "outputs": [],
   "source": [
    "def select_sglx_file():\n",
    "    '''Select a SGLX binary file to extract the digtial sync bit from. \n",
    "    Using the LFP file is faster, but the AP file is maximally precise.'''\n",
    "\n",
    "    \n",
    "    # Get file from user\n",
    "    root = Tk()         # create the Tkinter widget\n",
    "    root.withdraw()     # hide the Tkinter root window\n",
    "\n",
    "    # Windows specific; forces the window to appear in front\n",
    "    root.attributes(\"-topmost\", True)\n",
    "\n",
    "    fullPath = Path(filedialog.askopenfilename(title=\"Select SpikeGLX binary file\"))\n",
    "\n",
    "    root.destroy()\n",
    "    \n",
    "    return fullPath"
   ]
  },
  {
   "cell_type": "code",
   "execution_count": 4,
   "metadata": {},
   "outputs": [],
   "source": [
    "def sglx_load_sync(sglx_file):\n",
    "    '''Load the sync channel from the specified binary file. \n",
    "    The SpikeGLX metadata file must be present in the same directory as the binary file.'''\n",
    "    meta = readMeta(sglx_file)\n",
    "    rawData = makeMemMapRaw(sglx_file, meta)\n",
    "\n",
    "    # Read the entire file\n",
    "    firstSamp = 0\n",
    "    lastSamp = rawData.shape[1]-1\n",
    "\n",
    "    # Which digital word to read. \n",
    "    # For imec, there is only 1 digital word, dw = 0.\n",
    "    # For NI, digital lines 0-15 are in word 0, lines 16-31 are in word 1, etc.\n",
    "    dw = 0    \n",
    "    # Which lines within the digital word, zero-based\n",
    "    # Note that the SYNC line for PXI 3B is stored in line 6.\n",
    "    dLineList = [6]\n",
    "        \n",
    "    return ExtractDigital(rawData, firstSamp, lastSamp, dw, dLineList, meta)"
   ]
  },
  {
   "cell_type": "code",
   "execution_count": 5,
   "metadata": {},
   "outputs": [],
   "source": [
    "def sglx_onset_samples(sync):\n",
    "    '''Extract the pulse rising edge samples from the SGLX sync channel.'''\n",
    "    # Onsets are the first samples where a value is high after being low. If sample 0 is high, the first onset is sample 0. Consistent with TDT convention.\n",
    "    onset_samples = np.where(np.diff(np.squeeze(sync), prepend=0) == 1)[0]\n",
    "    assert(onset_samples.dtype == np.dtype('int64')) # Make sure uint8s have been properly casted as int64s\n",
    "    return onset_samples"
   ]
  },
  {
   "cell_type": "code",
   "execution_count": 6,
   "metadata": {},
   "outputs": [],
   "source": [
    "def sglx_offset_samples(sync):\n",
    "    '''Extract the pulse falling edge samples from the SGLX sync channel'''\n",
    "    # Offsets are the first samples wehre a value is low after being high. If the last sample is high, the last offset is Inf. Consistent with TDT convention.\n",
    "    offset_samples = np.where(np.diff(np.squeeze(sync), prepend=0) == -1)[0]\n",
    "    assert(offset_samples.dtype == np.dtype('int64')) # Make sure uint8s have been properly casted as int64s\n",
    "    if np.squeeze(sync)[-1] == 1:\n",
    "        offset_samples = np.append(offset_samples, np.Inf)\n",
    "    return offset_samples"
   ]
  },
  {
   "cell_type": "code",
   "execution_count": 7,
   "metadata": {},
   "outputs": [],
   "source": [
    "def get_rising_edges(onset_times):\n",
    "    '''Assumes onset times follow TDT convention, as described above.'''\n",
    "    return onset_times[np.where(onset_times > 0)]"
   ]
  },
  {
   "cell_type": "code",
   "execution_count": 8,
   "metadata": {},
   "outputs": [],
   "source": [
    "def get_falling_edges(offset_times):\n",
    "    '''Assumes offset times follow TDT convention, as described above '''\n",
    "    return offset_times[np.where(offset_times < np.Inf)]"
   ]
  },
  {
   "cell_type": "code",
   "execution_count": 11,
   "metadata": {},
   "outputs": [
    {
     "name": "stdout",
     "output_type": "stream",
     "text": [
      "nChan: 385, nFileSamp: 1877279\n"
     ]
    }
   ],
   "source": [
    "sglx_file = select_sglx_file()\n",
    "sglx_sync = sglx_load_sync(sglx_file)\n",
    "sglx_fs = SampRate(readMeta(sglx_file))\n",
    "# Times are in seconds from the start of the SGLX recording. \n",
    "sglx_onset_times = sglx_onset_samples(sglx_sync) / sglx_fs\n",
    "sglx_offset_times = sglx_offset_samples(sglx_sync) / sglx_fs"
   ]
  },
  {
   "cell_type": "code",
   "execution_count": 13,
   "metadata": {},
   "outputs": [
    {
     "data": {
      "image/png": "[encoded data removed]",
      "text/plain": [
       "<Figure size 2400x480 with 1 Axes>"
      ]
     },
     "metadata": {},
     "output_type": "display_data"
    }
   ],
   "source": [
    "plot_pulses(sglx_onset_times, sglx_offset_times, nPulsesToPlot=20)"
   ]
  },
  {
   "cell_type": "code",
   "execution_count": 15,
   "metadata": {},
   "outputs": [],
   "source": [
    "sglx_rising_edges = get_rising_edges(sglx_onset_times)\n",
    "sglx_falling_edges = get_falling_edges(sglx_offset_times)\n",
    "sglx_barcode_start_times, sglx_barcodes = extract_barcodes_from_times(sglx_rising_edges, sglx_falling_edges, bar_duration=0.029)"
   ]
  },
  {
   "cell_type": "markdown",
   "metadata": {},
   "source": [
    "# Load TDT"
   ]
  },
  {
   "cell_type": "code",
   "execution_count": 16,
   "metadata": {},
   "outputs": [],
   "source": [
    "def select_tdt_block():\n",
    "    '''Select a TDT block to extract sync info from.'''\n",
    "    # Get file from user\n",
    "    root = Tk()         # create the Tkinter widget\n",
    "    root.withdraw()     # hide the Tkinter root window\n",
    "\n",
    "    # Windows specific; forces the window to appear in front\n",
    "    root.attributes(\"-topmost\", True)\n",
    "\n",
    "    fullPath = Path(filedialog.askdirectory(title=\"Select TDT block\"))\n",
    "\n",
    "    root.destroy()\n",
    "    \n",
    "    return fullPath"
   ]
  },
  {
   "cell_type": "code",
   "execution_count": 17,
   "metadata": {},
   "outputs": [
    {
     "name": "stdout",
     "output_type": "stream",
     "text": [
      "read from t=0s to t=750.38s\n"
     ]
    }
   ],
   "source": [
    "tdt_file = select_tdt_block()\n",
    "tdt_data = tdt.read_block(tdt_file, evtype=['epocs'])\n",
    "# Here, we assume that your digital sync pulse is recorded on Port C0\n",
    "# YSK: TDT calls the onset of a signal that starts high \"0\", but the offset of a signal that ends high \"inf\"\n",
    "# Times are in seconds from the start of the TDT recording. \n",
    "tdt_onset_times = tdt_data.epocs.PC0_.onset \n",
    "tdt_offset_times = tdt_data.epocs.PC0_.offset"
   ]
  },
  {
   "cell_type": "code",
   "execution_count": 18,
   "metadata": {},
   "outputs": [
    {
     "data": {
      "image/png": "[encoded data removed]",
      "text/plain": [
       "<Figure size 2400x480 with 1 Axes>"
      ]
     },
     "metadata": {},
     "output_type": "display_data"
    }
   ],
   "source": [
    "plot_pulses(tdt_onset_times, tdt_offset_times, nPulsesToPlot=20)"
   ]
  },
  {
   "cell_type": "code",
   "execution_count": 19,
   "metadata": {},
   "outputs": [],
   "source": [
    "tdt_rising_edges = get_rising_edges(tdt_onset_times)\n",
    "tdt_falling_edges = get_falling_edges(tdt_offset_times)\n",
    "tdt_barcode_start_times, tdt_barcodes = extract_barcodes_from_times(tdt_rising_edges, tdt_falling_edges, bar_duration=0.029)"
   ]
  },
  {
   "cell_type": "markdown",
   "metadata": {},
   "source": [
    "# Use barcodes to align streams"
   ]
  },
  {
   "cell_type": "code",
   "execution_count": 20,
   "metadata": {},
   "outputs": [
    {
     "name": "stdout",
     "output_type": "stream",
     "text": [
      "[ 52.01945607  82.9781704  113.93648475 144.89479909 175.85351343\n",
      " 206.81182777 237.77014211 268.72885645 299.68717079 330.64588512\n",
      " 361.60419947 392.5629138  423.52122814 454.47954249 485.43825682\n",
      " 516.39657117 547.3552855  578.31359984 609.27191419 640.23062852\n",
      " 671.18894286 702.14725721 733.10597154]\n",
      "[ 54.60656128  85.56515328 116.52370432 147.48229632 178.44088832\n",
      " 209.39948032 240.35803136 271.31662336 302.27521536 333.23380736\n",
      " 364.19239936 395.15099136 426.10958336 457.06817536 488.0267264\n",
      " 518.9853184  549.94395136 580.9025024  611.8610944  642.8196864\n",
      " 673.77823744 704.73682944 735.69538048]\n"
     ]
    }
   ],
   "source": [
    "print(sglx_barcode_start_times)\n",
    "print(tdt_barcode_start_times)"
   ]
  },
  {
   "cell_type": "markdown",
   "metadata": {},
   "source": [
    "*The following barcode sequences should match exactly. If they do not, we must find the longest common subsequence of matching barcodes.*"
   ]
  },
  {
   "cell_type": "code",
   "execution_count": 22,
   "metadata": {},
   "outputs": [
    {
     "name": "stdout",
     "output_type": "stream",
     "text": [
      "[2070601.0, 2070599.0, 2070597.0, 2070595.0, 2070593.0, 2070591.0, 2070589.0, 2070587.0, 2070585.0, 2070583.0, 2070581.0, 2070579.0, 2070577.0, 2070575.0, 2070573.0, 2070571.0, 2070569.0, 2070567.0, 2070565.0, 2070563.0, 2070561.0, 2070559.0, 2070557.0]\n",
      "[2070601.0, 2070599.0, 2070597.0, 2070595.0, 2070593.0, 2070591.0, 2070589.0, 2070587.0, 2070585.0, 2070583.0, 2070581.0, 2070579.0, 2070577.0, 2070575.0, 2070573.0, 2070571.0, 2070569.0, 2070567.0, 2070565.0, 2070563.0, 2070561.0, 2070559.0, 2070557.0]\n"
     ]
    }
   ],
   "source": [
    "# These should match\n",
    "print(sglx_barcodes)\n",
    "print(tdt_barcodes)"
   ]
  },
  {
   "cell_type": "code",
   "execution_count": 24,
   "metadata": {},
   "outputs": [],
   "source": [
    "assert (sglx_barcodes == tdt_barcodes), \"The barcode sequences must match exactly. TODO: Fix this by automatically finding longest common subsequence.\"\n",
    "\n",
    "# Fit the TDT barcode times to the SGLX barcode times\n",
    "y = sglx_barcode_start_times\n",
    "x = tdt_barcode_start_times.reshape((-1, 1))\n",
    "model = LinearRegression().fit(x, y)\n",
    "r_sq = model.score(x, y)"
   ]
  },
  {
   "cell_type": "code",
   "execution_count": 59,
   "metadata": {},
   "outputs": [
    {
     "name": "stdout",
     "output_type": "stream",
     "text": [
      "coefficient of determination: 0.9999999999996882\n",
      "intercept: -2.58683415383382\n",
      "drift rate in msec/hr: -13.005901819918009\n"
     ]
    }
   ],
   "source": [
    "print('coefficient of determination:', r_sq)\n",
    "print('intercept:', model.intercept_)\n",
    "print('drift rate in msec/hr:', (model.coef_[0] - 1)*60*60*1000)"
   ]
  },
  {
   "cell_type": "code",
   "execution_count": 33,
   "metadata": {},
   "outputs": [],
   "source": [
    "def visualize_mapping(sglx_rising_edges, tdt_rising_edges, model, nPulsesToPlot=10):\n",
    "    '''Visualize remapped TDT sync pulse times in SGLX time space, to verify correctness.\n",
    "    Black lines = Pulse times measured by SGLX.\n",
    "    Red lines = Pulse times measured by TDT and remapped to SGLX time space. '''\n",
    "    remapped_tdt_times = model.predict(tdt_rising_edges.reshape((-1, 1)))\n",
    "    \n",
    "    plt.figure(num=None, figsize=(30, 6), dpi=80, facecolor='w', edgecolor='k')\n",
    "    plt.vlines(sglx_rising_edges[:nPulsesToPlot], 0, 1, colors='black')\n",
    "    plt.vlines(remapped_tdt_times[:nPulsesToPlot], 0, 1, linestyle='dotted', colors='red')"
   ]
  },
  {
   "cell_type": "code",
   "execution_count": 34,
   "metadata": {},
   "outputs": [
    {
     "data": {
      "image/png": "[encoded data removed]",
      "text/plain": [
       "<Figure size 2400x480 with 1 Axes>"
      ]
     },
     "metadata": {},
     "output_type": "display_data"
    }
   ],
   "source": [
    "visualize_mapping(sglx_rising_edges, tdt_rising_edges, model)"
   ]
  },
  {
   "cell_type": "markdown",
   "metadata": {},
   "source": [
    "# Get TDT stimulation times"
   ]
  },
  {
   "cell_type": "code",
   "execution_count": 35,
   "metadata": {},
   "outputs": [],
   "source": [
    "def get_stim_times(tdt_data):\n",
    "    '''Extract the time of each stimulation from a loaded TDT block.\n",
    "    Times are in seconds from the start of the TDT recording.'''\n",
    "    CntA = tdt_data.epocs.CntA \n",
    "    PeA_ = tdt_data.epocs.PeA_\n",
    "    \n",
    "    n_strobes = np.size(PeA_.onset) \n",
    "    stim_t = np.array([])\n",
    "    \n",
    "    for strobe in np.arange(n_strobes):\n",
    "        strobe_ISI = PeA_.data[strobe] / 1000 # Convert from msec to sec\n",
    "        n_strobe_stims = CntA.data[strobe] # The number of stimlations in this strobe\n",
    "        strobe_start = PeA_.onset[strobe] # The time that this strobe started\n",
    "        strobe_stims = strobe_start + np.arange(n_strobe_stims) * strobe_ISI # The time of each stimulation in this strobe\n",
    "        stim_t = np.append(stim_t, strobe_stims)\n",
    "        \n",
    "    return stim_t  "
   ]
  },
  {
   "cell_type": "code",
   "execution_count": 36,
   "metadata": {},
   "outputs": [],
   "source": [
    "def get_stim_samples(tdt_data):\n",
    "    '''Get the sample numbers of each stimulation, based on epoc store estimates.'''\n",
    "    eS1r = tdt_data.streams.eS1r\n",
    "    stim_times = get_stim_times(tdt_data)\n",
    "    return np.rint(stim_times * eS1r.fs).astype('int')"
   ]
  },
  {
   "cell_type": "code",
   "execution_count": 37,
   "metadata": {},
   "outputs": [
    {
     "name": "stdout",
     "output_type": "stream",
     "text": [
      "read from t=0s to t=750.38s\n"
     ]
    }
   ],
   "source": [
    "tdt_data = tdt.read_block(tdt_file, evtype=['epocs', 'streams'])\n",
    "stim_times = get_stim_times(tdt_data)"
   ]
  },
  {
   "cell_type": "code",
   "execution_count": 55,
   "metadata": {},
   "outputs": [],
   "source": [
    "def visualize_stims(tdt_data, ch, first_stim=0, last_stim=4, before=100, after=100):\n",
    "    '''Visualize estimated stimulation times (block dotted lines) relative to the stimulator current stream.\n",
    "    first_stim is the 0-based index of the first stimulation to plot.\n",
    "    last_stim is the 0-based index of the last stimulation to plot. \n",
    "    before/after are the number of samples to plot before the first stim and after the last stim.\n",
    "    ch is the stimulator current channel to plot.'''\n",
    "    stim_samples = get_stim_samples(tdt_data)\n",
    "    samplesToPlot = np.arange(stim_samples[first_stim] - before, stim_samples[last_stim] + after)\n",
    "\n",
    "    plt.figure(num=None, figsize=(30, 6), dpi=80, facecolor='w', edgecolor='k')\n",
    "    plt.plot(samplesToPlot, tdt_data.streams.eS1r.data[ch, samplesToPlot])\n",
    "    plt.vlines(stim_samples[first_stim : last_stim + 1], 0, 1000, linestyle='dotted', colors='black')"
   ]
  },
  {
   "cell_type": "code",
   "execution_count": 56,
   "metadata": {},
   "outputs": [
    {
     "data": {
      "image/png": "[encoded data removed]",
      "text/plain": [
       "<Figure size 2400x480 with 1 Axes>"
      ]
     },
     "metadata": {},
     "output_type": "display_data"
    }
   ],
   "source": [
    "visualize_stims(tdt_data, ch=6, first_stim=1, last_stim=10)"
   ]
  },
  {
   "cell_type": "code",
   "execution_count": 40,
   "metadata": {},
   "outputs": [
    {
     "data": {
      "text/plain": [
       "array([279.49285332, 283.49282837, 287.49280342, 291.49277847,\n",
       "       295.49275352, 299.49272857, 303.49270362, 307.49267868,\n",
       "       311.49265373, 315.49262878, 319.49260383, 323.49257888,\n",
       "       327.49255393, 331.49252898, 335.49250403, 339.49247908,\n",
       "       343.49245413, 347.49242919, 351.49240424, 355.49237929,\n",
       "       359.49235434, 363.49232939, 367.49230444, 371.49227949,\n",
       "       375.49225454, 393.80790913, 397.80788418, 401.80785923,\n",
       "       405.80783428, 409.80780933, 413.80778438, 417.80775943,\n",
       "       421.80773448, 425.80770953, 429.80768458, 433.80765964,\n",
       "       437.80763469, 441.80760974, 445.80758479, 449.80755984,\n",
       "       453.80753489, 457.80750994, 461.80748499, 465.80746004,\n",
       "       469.80743509, 473.80741015, 477.8073852 , 481.80736025,\n",
       "       485.8073353 , 489.80731035, 525.83523374, 529.83520879,\n",
       "       533.83518384, 537.8351589 , 541.83513395, 545.835109  ,\n",
       "       549.83508405, 553.8350591 , 557.83503415, 561.8350092 ,\n",
       "       565.83498425, 569.8349593 , 573.83493435, 577.83490941,\n",
       "       581.83488446, 585.83485951, 589.83483456, 593.83480961,\n",
       "       597.83478466, 601.83475971, 605.83473476, 609.83470981,\n",
       "       613.83468486, 617.83465991, 621.83463497, 636.71019446,\n",
       "       640.71016951, 644.71014456, 648.71011961, 652.71009466,\n",
       "       656.71006971, 660.71004476, 664.71001981, 668.70999487,\n",
       "       672.70996992, 676.70994497, 680.70992002, 684.70989507,\n",
       "       688.70987012, 692.70984517, 696.70982022, 700.70979527,\n",
       "       704.70977032, 708.70974537, 712.70972043, 716.70969548,\n",
       "       720.70967053, 724.70964558, 728.70962063, 732.70959568])"
      ]
     },
     "execution_count": 40,
     "metadata": {},
     "output_type": "execute_result"
    }
   ],
   "source": [
    "# Remap the stimulation times from TDT time space to SGLX time space, based on sync signal offset and drift between the two systems. \n",
    "sglx_stim_times = model.predict(stim_times.reshape((-1, 1)))\n",
    "sglx_stim_times"
   ]
  },
  {
   "cell_type": "code",
   "execution_count": 67,
   "metadata": {},
   "outputs": [],
   "source": [
    "def matlab_saveas_dialog():\n",
    "    # Get file from user\n",
    "    root = Tk()         # create the Tkinter widget\n",
    "    root.withdraw()     # hide the Tkinter root window\n",
    "\n",
    "    # Windows specific; forces the window to appear in front\n",
    "    root.attributes(\"-topmost\", True)\n",
    "\n",
    "    fullPath = Path(filedialog.asksaveasfilename(title=\"Save as\", defaultextension=\".mat\", filetypes=((\"MATLAB\", \"*.mat\"),)))\n",
    "\n",
    "    root.destroy()\n",
    "    \n",
    "    return fullPath"
   ]
  },
  {
   "cell_type": "code",
   "execution_count": null,
   "metadata": {},
   "outputs": [],
   "source": [
    "# Export the results for use in MATLAB. \n",
    "# The names of the SGLX and TDT files used are saved with the data. \n",
    "matlab_file = matlab_saveas_dialog()\n",
    "savemat(matlab_file, {'sglx_stim_times': sglx_stim_times, 'sglx_file': sglx_file.name, 'tdt_file': tdt_file.name})"
   ]
  },
  {
   "cell_type": "code",
   "execution_count": null,
   "metadata": {},
   "outputs": [],
   "source": []
  }
 ],
 "metadata": {
  "kernelspec": {
   "display_name": "Python 3",
   "language": "python",
   "name": "python3"
  },
  "language_info": {
   "codemirror_mode": {
    "name": "ipython",
    "version": 3
   },
   "file_extension": ".py",
   "mimetype": "text/x-python",
   "name": "python",
   "nbconvert_exporter": "python",
   "pygments_lexer": "ipython3",
   "version": "3.8.5"
  }
 },
 "nbformat": 4,
 "nbformat_minor": 4
}
