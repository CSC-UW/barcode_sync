{
 "cells": [
  {
   "cell_type": "code",
   "execution_count": 1,
   "metadata": {},
   "outputs": [],
   "source": [
    "import tdt\n",
    "import numpy as np\n",
    "import matplotlib.pyplot as plt\n",
    "from pathlib import Path\n",
    "from tkinter import Tk\n",
    "from tkinter import filedialog\n",
    "from readSGLX import readMeta, SampRate, makeMemMapRaw, ExtractDigital\n",
    "from sklearn.linear_model import LinearRegression\n",
    "from scipy.io import savemat\n",
    "from warnings import warn\n",
    "from barcodes import extract_barcodes_from_times\n",
    "from difflib import SequenceMatcher"
   ]
  },
  {
   "cell_type": "code",
   "execution_count": 2,
   "metadata": {},
   "outputs": [],
   "source": [
    "def plot_pulses(onset_times, offset_times, nPulsesToPlot=20):\n",
    "    '''Use onset and offset times to plot pulse waveforms. \n",
    "    Times should be in seconds. Plot only the first N pulses (default 100)'''\n",
    "    \n",
    "    #Interleave onset and offset times\n",
    "    edge_times = np.empty((onset_times.size + offset_times.size,), dtype=onset_times.dtype)\n",
    "    edge_times[0::2] = onset_times\n",
    "    edge_times[1::2] = offset_times\n",
    "    \n",
    "    # Figure out when pulses are high and when they are low\n",
    "    sync_levels = np.empty((onset_times.size + offset_times.size,), dtype=onset_times.dtype)\n",
    "    sync_levels[0::2] = 1\n",
    "    sync_levels[1::2] = 0\n",
    "\n",
    "    plt.figure(num=None, figsize=(30, 6), dpi=80, facecolor='w', edgecolor='k')\n",
    "    plt.step(edge_times[:nPulsesToPlot], sync_levels[:nPulsesToPlot], where='post')"
   ]
  },
  {
   "cell_type": "markdown",
   "metadata": {},
   "source": [
    "# Load SGLX"
   ]
  },
  {
   "cell_type": "code",
   "execution_count": 3,
   "metadata": {},
   "outputs": [],
   "source": [
    "def select_sglx_file():\n",
    "    '''Select a SGLX binary file to extract the digtial sync bit from. \n",
    "    Using the LFP file is faster, but the AP file is maximally precise.'''\n",
    "\n",
    "    \n",
    "    # Get file from user\n",
    "    root = Tk()         # create the Tkinter widget\n",
    "    root.withdraw()     # hide the Tkinter root window\n",
    "\n",
    "    # Windows specific; forces the window to appear in front\n",
    "    root.attributes(\"-topmost\", True)\n",
    "\n",
    "    fullPath = Path(filedialog.askopenfilename(title=\"Select SpikeGLX binary file\"))\n",
    "\n",
    "    root.destroy()\n",
    "    \n",
    "    return fullPath"
   ]
  },
  {
   "cell_type": "code",
   "execution_count": 4,
   "metadata": {},
   "outputs": [],
   "source": [
    "def sglx_load_sync(sglx_file):\n",
    "    '''Load the sync channel from the specified binary file. \n",
    "    The SpikeGLX metadata file must be present in the same directory as the binary file.'''\n",
    "    meta = readMeta(sglx_file)\n",
    "    rawData = makeMemMapRaw(sglx_file, meta)\n",
    "\n",
    "    # Read the entire file\n",
    "    firstSamp = 0\n",
    "    lastSamp = rawData.shape[1]-1\n",
    "\n",
    "    # Which digital word to read. \n",
    "    # For imec, there is only 1 digital word, dw = 0.\n",
    "    # For NI, digital lines 0-15 are in word 0, lines 16-31 are in word 1, etc.\n",
    "    dw = 0    \n",
    "    # Which lines within the digital word, zero-based\n",
    "    # Note that the SYNC line for PXI 3B is stored in line 6.\n",
    "    dLineList = [6]\n",
    "        \n",
    "    return ExtractDigital(rawData, firstSamp, lastSamp, dw, dLineList, meta)"
   ]
  },
  {
   "cell_type": "code",
   "execution_count": 5,
   "metadata": {},
   "outputs": [],
   "source": [
    "def sglx_onset_samples(sync):\n",
    "    '''Extract the pulse rising edge samples from the SGLX sync channel.'''\n",
    "    # Onsets are the first samples where a value is high after being low. If sample 0 is high, the first onset is sample 0. Consistent with TDT convention.\n",
    "    onset_samples = np.where(np.diff(np.squeeze(sync), prepend=0) == 1)[0]\n",
    "    assert(onset_samples.dtype == np.dtype('int64')) # Make sure uint8s have been properly casted as int64s\n",
    "    return onset_samples"
   ]
  },
  {
   "cell_type": "code",
   "execution_count": 6,
   "metadata": {},
   "outputs": [],
   "source": [
    "def sglx_offset_samples(sync):\n",
    "    '''Extract the pulse falling edge samples from the SGLX sync channel'''\n",
    "    # Offsets are the first samples wehre a value is low after being high. If the last sample is high, the last offset is Inf. Consistent with TDT convention.\n",
    "    offset_samples = np.where(np.diff(np.squeeze(sync), prepend=0) == -1)[0]\n",
    "    assert(offset_samples.dtype == np.dtype('int64')) # Make sure uint8s have been properly casted as int64s\n",
    "    if np.squeeze(sync)[-1] == 1:\n",
    "        offset_samples = np.append(offset_samples, np.Inf)\n",
    "    return offset_samples"
   ]
  },
  {
   "cell_type": "code",
   "execution_count": 7,
   "metadata": {},
   "outputs": [],
   "source": [
    "def get_rising_edges(onset_times):\n",
    "    '''Assumes onset times follow TDT convention, as described above.'''\n",
    "    return onset_times[np.where(onset_times > 0)]"
   ]
  },
  {
   "cell_type": "code",
   "execution_count": 8,
   "metadata": {},
   "outputs": [],
   "source": [
    "def get_falling_edges(offset_times):\n",
    "    '''Assumes offset times follow TDT convention, as described above '''\n",
    "    return offset_times[np.where(offset_times < np.Inf)]"
   ]
  },
  {
   "cell_type": "code",
   "execution_count": 9,
   "metadata": {},
   "outputs": [
    {
     "name": "stdout",
     "output_type": "stream",
     "text": [
      "nChan: 385, nFileSamp: 2702692\n"
     ]
    }
   ],
   "source": [
    "sglx_file = select_sglx_file()\n",
    "sglx_sync = sglx_load_sync(sglx_file)\n",
    "sglx_fs = SampRate(readMeta(sglx_file))\n",
    "# Times are in seconds from the start of the SGLX recording. \n",
    "sglx_onset_times = sglx_onset_samples(sglx_sync) / sglx_fs\n",
    "sglx_offset_times = sglx_offset_samples(sglx_sync) / sglx_fs"
   ]
  },
  {
   "cell_type": "code",
   "execution_count": 10,
   "metadata": {},
   "outputs": [
    {
     "data": {
      "image/png": "[encoded data removed]",
      "text/plain": [
       "<Figure size 2400x480 with 1 Axes>"
      ]
     },
     "metadata": {},
     "output_type": "display_data"
    }
   ],
   "source": [
    "plot_pulses(sglx_onset_times, sglx_offset_times, nPulsesToPlot=20)"
   ]
  },
  {
   "cell_type": "code",
   "execution_count": 11,
   "metadata": {},
   "outputs": [],
   "source": [
    "sglx_rising_edges = get_rising_edges(sglx_onset_times)\n",
    "sglx_falling_edges = get_falling_edges(sglx_offset_times)\n",
    "sglx_barcode_start_times, sglx_barcodes = extract_barcodes_from_times(sglx_rising_edges, sglx_falling_edges, bar_duration=0.029)"
   ]
  },
  {
   "cell_type": "markdown",
   "metadata": {},
   "source": [
    "# Load TDT"
   ]
  },
  {
   "cell_type": "code",
   "execution_count": 12,
   "metadata": {},
   "outputs": [],
   "source": [
    "def select_tdt_block():\n",
    "    '''Select a TDT block to extract sync info from.'''\n",
    "    # Get file from user\n",
    "    root = Tk()         # create the Tkinter widget\n",
    "    root.withdraw()     # hide the Tkinter root window\n",
    "\n",
    "    # Windows specific; forces the window to appear in front\n",
    "    root.attributes(\"-topmost\", True)\n",
    "\n",
    "    fullPath = Path(filedialog.askdirectory(title=\"Select TDT block\"))\n",
    "\n",
    "    root.destroy()\n",
    "    \n",
    "    return fullPath"
   ]
  },
  {
   "cell_type": "code",
   "execution_count": 13,
   "metadata": {},
   "outputs": [
    {
     "name": "stdout",
     "output_type": "stream",
     "text": [
      "read from t=0s to t=1015.12s\n"
     ]
    }
   ],
   "source": [
    "tdt_file = select_tdt_block()\n",
    "tdt_data = tdt.read_block(tdt_file, evtype=['epocs'])\n",
    "# Here, we assume that your digital sync pulse is recorded on Port C0\n",
    "# YSK: TDT calls the onset of a signal that starts high \"0\", but the offset of a signal that ends high \"inf\"\n",
    "# Times are in seconds from the start of the TDT recording. \n",
    "tdt_onset_times = tdt_data.epocs.PC0_.onset \n",
    "tdt_offset_times = tdt_data.epocs.PC0_.offset"
   ]
  },
  {
   "cell_type": "code",
   "execution_count": 14,
   "metadata": {},
   "outputs": [
    {
     "data": {
      "image/png": "[encoded data removed]",
      "text/plain": [
       "<Figure size 2400x480 with 1 Axes>"
      ]
     },
     "metadata": {},
     "output_type": "display_data"
    }
   ],
   "source": [
    "plot_pulses(tdt_onset_times, tdt_offset_times, nPulsesToPlot=20)"
   ]
  },
  {
   "cell_type": "code",
   "execution_count": 15,
   "metadata": {},
   "outputs": [],
   "source": [
    "tdt_rising_edges = get_rising_edges(tdt_onset_times)\n",
    "tdt_falling_edges = get_falling_edges(tdt_offset_times)\n",
    "tdt_barcode_start_times, tdt_barcodes = extract_barcodes_from_times(tdt_rising_edges, tdt_falling_edges, bar_duration=0.029)"
   ]
  },
  {
   "cell_type": "markdown",
   "metadata": {},
   "source": [
    "# Use barcodes to align streams"
   ]
  },
  {
   "cell_type": "code",
   "execution_count": 16,
   "metadata": {},
   "outputs": [
    {
     "name": "stdout",
     "output_type": "stream",
     "text": [
      "[  47.74466789   78.70298223  109.66129657  140.61961091  171.57832525\n",
      "  202.53663959  233.49495394  264.45326828  295.41158262  326.37029696\n",
      "  357.3286113   388.28692564  419.24523998  450.20355432  481.16226866\n",
      "  512.120583    543.07889734  574.03721168  604.99552602  635.95424036\n",
      "  666.9121547   697.87046904  728.82918338  759.78749772  790.74581206\n",
      "  821.7041264   852.66284074  883.62115508  914.57946942  945.53818376\n",
      "  976.4964981  1007.45521244 1038.41352678 1069.37184112]\n",
      "[  48.81174528   79.77025536  110.72872448  141.68723456  172.64574464\n",
      "  203.60425472  234.5627648   265.52123392  296.47978496  327.43829504\n",
      "  358.39680512  389.3553152   420.31382528  451.27233536  482.23080448\n",
      "  513.18931456  544.1478656   575.10637568  606.06488576  637.02339584\n",
      "  667.98194688  698.94045696  729.899008    760.85755904  791.81606912\n",
      "  822.77466112  853.73321216  884.6917632   915.65031424  946.60890624\n",
      "  977.56745728 1008.52600832]\n"
     ]
    }
   ],
   "source": [
    "print(sglx_barcode_start_times)\n",
    "print(tdt_barcode_start_times)"
   ]
  },
  {
   "cell_type": "code",
   "execution_count": 34,
   "metadata": {},
   "outputs": [
    {
     "name": "stdout",
     "output_type": "stream",
     "text": [
      "SpikeGLX barcodes:\n",
      " [2070849.0, 2070847.0, 2070845.0, 2070843.0, 2070841.0, 2070839.0, 2070837.0, 2070835.0, 2070833.0, 2070831.0, 2070829.0, 2070827.0, 2070825.0, 2070823.0, 2070821.0, 2070819.0, 2070817.0, 2070815.0, 2070813.0, 2070811.0, 2070809.0, 2070807.0, 2070805.0, 2070803.0, 2070801.0, 2070799.0, 2070797.0, 2070795.0, 2070793.0, 2070791.0, 2070789.0, 2070787.0, 2070785.0, 2070783.0]\n",
      "TDT barcodes:\n",
      " [2070849.0, 2070847.0, 2070845.0, 2070843.0, 2070841.0, 2070839.0, 2070837.0, 2070835.0, 2070833.0, 2070831.0, 2070829.0, 2070827.0, 2070825.0, 2070823.0, 2070821.0, 2070819.0, 2070817.0, 2070815.0, 2070813.0, 2070811.0, 2070809.0, 2070807.0, 2070805.0, 2070803.0, 2070801.0, 2070799.0, 2070797.0, 2070795.0, 2070793.0, 2070791.0, 2070789.0, 2070787.0]\n"
     ]
    }
   ],
   "source": [
    "print(\"SpikeGLX barcodes:\\n\", sglx_barcodes)\n",
    "print(\"TDT barcodes:\\n\", tdt_barcodes)"
   ]
  },
  {
   "cell_type": "code",
   "execution_count": 36,
   "metadata": {},
   "outputs": [
    {
     "name": "stdout",
     "output_type": "stream",
     "text": [
      "Longest barcode sequence common to both systems:\n",
      " [2070849.0, 2070847.0, 2070845.0, 2070843.0, 2070841.0, 2070839.0, 2070837.0, 2070835.0, 2070833.0, 2070831.0, 2070829.0, 2070827.0, 2070825.0, 2070823.0, 2070821.0, 2070819.0, 2070817.0, 2070815.0, 2070813.0, 2070811.0, 2070809.0, 2070807.0, 2070805.0, 2070803.0, 2070801.0, 2070799.0, 2070797.0, 2070795.0, 2070793.0, 2070791.0, 2070789.0, 2070787.0]\n"
     ]
    }
   ],
   "source": [
    "# Find the longest sequence of barcodes recorded by both systems\n",
    "s = SequenceMatcher(None, sglx_barcodes, tdt_barcodes)\n",
    "match = s.find_longest_match(alo=0, ahi=len(sglx_barcodes), blo=0, bhi=len(tdt_barcodes))\n",
    "shared_barcodes = sglx_barcodes[match.a : match.size]\n",
    "print(\"Longest barcode sequence common to both systems:\\n\", shared_barcodes)"
   ]
  },
  {
   "cell_type": "code",
   "execution_count": 40,
   "metadata": {},
   "outputs": [],
   "source": [
    "# Using the barcodes shared by both systems, fit the TDT barcode times to the SGLX barcode times\n",
    "y = sglx_barcode_start_times[match.a : match.size]\n",
    "x = tdt_barcode_start_times[match.b : match.size].reshape((-1, 1))\n",
    "model = LinearRegression().fit(x, y)\n",
    "r_sq = model.score(x, y)"
   ]
  },
  {
   "cell_type": "code",
   "execution_count": 41,
   "metadata": {},
   "outputs": [
    {
     "name": "stdout",
     "output_type": "stream",
     "text": [
      "coefficient of determination: 0.9999999999997108\n",
      "intercept: -1.0668209265031692\n",
      "drift rate in msec/hr: -15.05938177519539\n"
     ]
    }
   ],
   "source": [
    "print('coefficient of determination:', r_sq)\n",
    "print('intercept:', model.intercept_)\n",
    "print('drift rate in msec/hr:', (model.coef_[0] - 1)*60*60*1000)"
   ]
  },
  {
   "cell_type": "code",
   "execution_count": 42,
   "metadata": {},
   "outputs": [],
   "source": [
    "def visualize_mapping(sglx_rising_edges, tdt_rising_edges, model, nPulsesToPlot=10):\n",
    "    '''Visualize remapped TDT sync pulse times in SGLX time space, to verify correctness.\n",
    "    Black lines = Pulse times measured by SGLX.\n",
    "    Red lines = Pulse times measured by TDT and remapped to SGLX time space. '''\n",
    "    remapped_tdt_times = model.predict(tdt_rising_edges.reshape((-1, 1)))\n",
    "    \n",
    "    plt.figure(num=None, figsize=(30, 6), dpi=80, facecolor='w', edgecolor='k')\n",
    "    plt.vlines(sglx_rising_edges[:nPulsesToPlot], 0, 1, colors='black')\n",
    "    plt.vlines(remapped_tdt_times[:nPulsesToPlot], 0, 1, linestyle='dotted', colors='red')"
   ]
  },
  {
   "cell_type": "code",
   "execution_count": 43,
   "metadata": {},
   "outputs": [
    {
     "data": {
      "image/png": "[encoded data removed]",
      "text/plain": [
       "<Figure size 2400x480 with 1 Axes>"
      ]
     },
     "metadata": {},
     "output_type": "display_data"
    }
   ],
   "source": [
    "visualize_mapping(sglx_rising_edges, tdt_rising_edges, model)"
   ]
  },
  {
   "cell_type": "markdown",
   "metadata": {},
   "source": [
    "# Get TDT stimulation times"
   ]
  },
  {
   "cell_type": "code",
   "execution_count": 44,
   "metadata": {},
   "outputs": [],
   "source": [
    "def get_stim_times(tdt_data):\n",
    "    '''Extract the time of each stimulation from a loaded TDT block.\n",
    "    Times are in seconds from the start of the TDT recording.'''\n",
    "    CntA = tdt_data.epocs.CntA \n",
    "    PeA_ = tdt_data.epocs.PeA_\n",
    "    \n",
    "    n_strobes = np.size(PeA_.onset) \n",
    "    stim_t = np.array([])\n",
    "    \n",
    "    for strobe in np.arange(n_strobes):\n",
    "        strobe_ISI = PeA_.data[strobe] / 1000 # Convert from msec to sec\n",
    "        n_strobe_stims = CntA.data[strobe] # The number of stimlations in this strobe\n",
    "        strobe_start = PeA_.onset[strobe] # The time that this strobe started\n",
    "        strobe_stims = strobe_start + np.arange(n_strobe_stims) * strobe_ISI # The time of each stimulation in this strobe\n",
    "        stim_t = np.append(stim_t, strobe_stims)\n",
    "        \n",
    "    return stim_t  "
   ]
  },
  {
   "cell_type": "code",
   "execution_count": 45,
   "metadata": {},
   "outputs": [],
   "source": [
    "def get_stim_samples(tdt_data):\n",
    "    '''Get the sample numbers of each stimulation, based on epoc store estimates.'''\n",
    "    eS1r = tdt_data.streams.eS1r\n",
    "    stim_times = get_stim_times(tdt_data)\n",
    "    return np.rint(stim_times * eS1r.fs).astype('int')"
   ]
  },
  {
   "cell_type": "code",
   "execution_count": 46,
   "metadata": {},
   "outputs": [
    {
     "name": "stdout",
     "output_type": "stream",
     "text": [
      "read from t=0s to t=1015.12s\n"
     ]
    }
   ],
   "source": [
    "tdt_data = tdt.read_block(tdt_file, evtype=['epocs', 'streams'])\n",
    "stim_times = get_stim_times(tdt_data)"
   ]
  },
  {
   "cell_type": "code",
   "execution_count": 47,
   "metadata": {},
   "outputs": [],
   "source": [
    "def visualize_stims(tdt_data, ch, first_stim=0, last_stim=4, before=100, after=100):\n",
    "    '''Visualize estimated stimulation times (block dotted lines) relative to the stimulator current stream.\n",
    "    first_stim is the 0-based index of the first stimulation to plot.\n",
    "    last_stim is the 0-based index of the last stimulation to plot. \n",
    "    before/after are the number of samples to plot before the first stim and after the last stim.\n",
    "    ch is the stimulator current channel to plot.'''\n",
    "    stim_samples = get_stim_samples(tdt_data)\n",
    "    samplesToPlot = np.arange(stim_samples[first_stim] - before, stim_samples[last_stim] + after)\n",
    "\n",
    "    plt.figure(num=None, figsize=(30, 6), dpi=80, facecolor='w', edgecolor='k')\n",
    "    plt.plot(samplesToPlot, tdt_data.streams.eS1r.data[ch, samplesToPlot])\n",
    "    plt.vlines(stim_samples[first_stim : last_stim + 1], 0, 1000, linestyle='dotted', colors='black')"
   ]
  },
  {
   "cell_type": "code",
   "execution_count": 49,
   "metadata": {},
   "outputs": [
    {
     "data": {
      "image/png": "[encoded data removed]",
      "text/plain": [
       "<Figure size 2400x480 with 1 Axes>"
      ]
     },
     "metadata": {},
     "output_type": "display_data"
    }
   ],
   "source": [
    "visualize_stims(tdt_data, ch=1, first_stim=1, last_stim=10)"
   ]
  },
  {
   "cell_type": "code",
   "execution_count": 50,
   "metadata": {},
   "outputs": [
    {
     "data": {
      "text/plain": [
       "array([ 401.13141725,  406.13138315,  411.13134905,  416.13131495,\n",
       "        421.13128085,  426.13124675,  431.13121265,  436.13117855,\n",
       "        441.13114445,  446.13111035,  562.31436411,  566.31433688,\n",
       "        570.31430965,  574.31428242,  578.31425519,  582.31422796,\n",
       "        586.31420073,  590.31417349,  594.31414626,  598.31411903,\n",
       "        602.3140918 ,  606.31406457,  610.31403734,  614.31401011,\n",
       "        618.31398288,  622.31395565,  626.31392842,  630.31390119,\n",
       "        634.31387396,  638.31384673,  642.3138195 ,  646.31379227,\n",
       "        650.31376503,  654.3137378 ,  658.31371057,  662.31368334,\n",
       "        666.31365611,  670.31362888,  674.31360165,  678.31357442,\n",
       "        682.31354719,  686.31351996,  690.31349273,  694.3134655 ,\n",
       "        698.31343827,  702.31341104,  706.31338381,  710.31335658,\n",
       "        714.31332934,  718.31330211,  722.31327488,  726.31324765,\n",
       "        730.31322042,  734.31319319,  738.31316596,  742.31313873,\n",
       "        746.3131115 ,  750.31308427,  754.31305704,  758.31302981,\n",
       "        762.31300258,  766.31297535,  770.31294812,  774.31292088,\n",
       "        778.31289365,  782.31286642,  786.31283919,  790.31281196,\n",
       "        794.31278473,  798.3127575 ,  802.31273027,  806.31270304,\n",
       "        810.31267581,  814.31264858,  818.31262135,  822.31259412,\n",
       "        826.31256689,  830.31253966,  834.31251242,  838.31248519,\n",
       "        842.31245796,  846.31243073,  850.3124035 ,  854.31237627,\n",
       "        858.31234904,  862.31232181,  866.31229458,  870.31226735,\n",
       "        874.31224012,  878.31221289,  882.31218566,  886.31215843,\n",
       "        890.3121312 ,  894.31210397,  898.31207673,  902.3120495 ,\n",
       "        906.31202227,  910.31199504,  914.31196781,  918.31194058,\n",
       "        971.60414126,  975.60411403,  979.6040868 ,  983.60405956,\n",
       "        987.60403233,  991.6040051 ,  995.60397787,  999.60395064,\n",
       "       1003.60392341, 1007.60389618, 1011.60386895, 1015.60384172,\n",
       "       1019.60381449, 1023.60378726, 1027.60376003, 1031.6037328 ,\n",
       "       1035.60370557, 1039.60367834, 1043.6036511 , 1047.60362387,\n",
       "       1051.60359664, 1055.60356941, 1059.60354218, 1063.60351495,\n",
       "       1067.60348772, 1071.60346049, 1075.60343326, 1079.60340603,\n",
       "       1083.6033788 , 1087.60335157, 1091.60332434, 1095.60329711,\n",
       "       1099.60326988, 1103.60324265, 1107.60321541, 1111.60318818,\n",
       "       1115.60316095, 1119.60313372, 1123.60310649, 1127.60307926,\n",
       "       1131.60305203, 1135.6030248 , 1139.60299757, 1143.60297034,\n",
       "       1147.60294311, 1151.60291588, 1155.60288865, 1159.60286142,\n",
       "       1163.60283419, 1167.60280695, 1171.60277972, 1175.60275249,\n",
       "       1179.60272526, 1183.60269803, 1187.6026708 , 1191.60264357,\n",
       "       1195.60261634, 1199.60258911, 1203.60256188, 1207.60253465,\n",
       "       1211.60250742, 1215.60248019, 1219.60245296, 1223.60242573,\n",
       "       1227.6023985 , 1231.60237126, 1235.60234403, 1239.6023168 ,\n",
       "       1243.60228957, 1247.60226234, 1251.60223511, 1255.60220788,\n",
       "       1259.60218065, 1263.60215342, 1267.60212619, 1271.60209896,\n",
       "       1275.60207173, 1279.6020445 , 1283.60201727, 1287.60199004,\n",
       "       1291.6019628 , 1295.60193557, 1299.60190834, 1303.60188111,\n",
       "       1307.60185388, 1311.60182665, 1315.60179942, 1319.60177219,\n",
       "       1323.60174496, 1327.60171773, 1331.6016905 , 1335.60166327,\n",
       "       1339.60163604, 1343.60160881, 1347.60158158, 1351.60155434,\n",
       "       1355.60152711, 1359.60149988, 1363.60147265, 1367.60144542,\n",
       "       1371.60141819, 1375.60139096, 1379.60136373, 1383.6013365 ,\n",
       "       1387.60130927])"
      ]
     },
     "execution_count": 50,
     "metadata": {},
     "output_type": "execute_result"
    }
   ],
   "source": [
    "# Remap the stimulation times from TDT time space to SGLX time space, based on sync signal offset and drift between the two systems. \n",
    "sglx_stim_times = model.predict(stim_times.reshape((-1, 1)))\n",
    "sglx_stim_times"
   ]
  },
  {
   "cell_type": "code",
   "execution_count": 67,
   "metadata": {},
   "outputs": [],
   "source": [
    "def matlab_saveas_dialog():\n",
    "    # Get file from user\n",
    "    root = Tk()         # create the Tkinter widget\n",
    "    root.withdraw()     # hide the Tkinter root window\n",
    "\n",
    "    # Windows specific; forces the window to appear in front\n",
    "    root.attributes(\"-topmost\", True)\n",
    "\n",
    "    fullPath = Path(filedialog.asksaveasfilename(title=\"Save as\", defaultextension=\".mat\", filetypes=((\"MATLAB\", \"*.mat\"),)))\n",
    "\n",
    "    root.destroy()\n",
    "    \n",
    "    return fullPath"
   ]
  },
  {
   "cell_type": "code",
   "execution_count": null,
   "metadata": {},
   "outputs": [],
   "source": [
    "# Export the results for use in MATLAB. \n",
    "# The names of the SGLX and TDT files used are saved with the data. \n",
    "matlab_file = matlab_saveas_dialog()\n",
    "savemat(matlab_file, {'sglx_stim_times': sglx_stim_times, 'sglx_file': sglx_file.name, 'tdt_file': tdt_file.name})"
   ]
  },
  {
   "cell_type": "code",
   "execution_count": null,
   "metadata": {},
   "outputs": [],
   "source": []
  }
 ],
 "metadata": {
  "kernelspec": {
   "display_name": "Python 3",
   "language": "python",
   "name": "python3"
  },
  "language_info": {
   "codemirror_mode": {
    "name": "ipython",
    "version": 3
   },
   "file_extension": ".py",
   "mimetype": "text/x-python",
   "name": "python",
   "nbconvert_exporter": "python",
   "pygments_lexer": "ipython3",
   "version": "3.7.9"
  }
 },
 "nbformat": 4,
 "nbformat_minor": 4
}
