{
 "cells": [
  {
   "cell_type": "code",
   "execution_count": null,
   "metadata": {},
   "outputs": [],
   "source": [
    "import tdt\n",
    "import numpy as np\n",
    "import matplotlib.pyplot as plt\n",
    "from warnings import warn \n",
    "from pathlib import Path\n",
    "from tkinter import Tk\n",
    "from tkinter import filedialog\n",
    "from readSGLX import readMeta, SampRate, makeMemMapRaw, ExtractDigital\n",
    "from sklearn.linear_model import LinearRegression\n",
    "from scipy.io import savemat\n",
    "from warnings import warn\n",
    "from barcodes import extract_barcodes_from_times\n",
    "from difflib import SequenceMatcher"
   ]
  },
  {
   "cell_type": "code",
   "execution_count": null,
   "metadata": {},
   "outputs": [],
   "source": [
    "def plot_pulses(onset_times, offset_times, nPulsesToPlot=20):\n",
    "    '''Use onset and offset times to plot pulse waveforms. \n",
    "    Times should be in seconds. Plot only the first N pulses (default 100)'''\n",
    "    \n",
    "    #Interleave onset and offset times\n",
    "    edge_times = np.empty((onset_times.size + offset_times.size,), dtype=onset_times.dtype)\n",
    "    edge_times[0::2] = onset_times\n",
    "    edge_times[1::2] = offset_times\n",
    "    \n",
    "    # Figure out when pulses are high and when they are low\n",
    "    sync_levels = np.empty((onset_times.size + offset_times.size,), dtype=onset_times.dtype)\n",
    "    sync_levels[0::2] = 1\n",
    "    sync_levels[1::2] = 0\n",
    "\n",
    "    plt.figure(num=None, figsize=(30, 6), dpi=80, facecolor='w', edgecolor='k')\n",
    "    plt.step(edge_times[:nPulsesToPlot], sync_levels[:nPulsesToPlot], where='post')"
   ]
  },
  {
   "cell_type": "markdown",
   "metadata": {},
   "source": [
    "# Load SGLX"
   ]
  },
  {
   "cell_type": "code",
   "execution_count": null,
   "metadata": {},
   "outputs": [],
   "source": [
    "def select_sglx_file():\n",
    "    '''Select a SGLX binary file to extract the digtial sync bit from. \n",
    "    Using the LFP file is faster, but the AP file is maximally precise.'''\n",
    "\n",
    "    \n",
    "    # Get file from user\n",
    "    root = Tk()         # create the Tkinter widget\n",
    "    root.withdraw()     # hide the Tkinter root window\n",
    "\n",
    "    # Windows specific; forces the window to appear in front\n",
    "    root.attributes(\"-topmost\", True)\n",
    "\n",
    "    fullPath = Path(filedialog.askopenfilename(title=\"Select SpikeGLX binary file\"))\n",
    "\n",
    "    root.destroy()\n",
    "    \n",
    "    return fullPath"
   ]
  },
  {
   "cell_type": "code",
   "execution_count": null,
   "metadata": {},
   "outputs": [],
   "source": [
    "def sglx_load_sync(sglx_file):\n",
    "    '''Load the sync channel from the specified binary file. \n",
    "    The SpikeGLX metadata file must be present in the same directory as the binary file.'''\n",
    "    meta = readMeta(sglx_file)\n",
    "    rawData = makeMemMapRaw(sglx_file, meta)\n",
    "\n",
    "    # Read the entire file\n",
    "    firstSamp = 0\n",
    "    lastSamp = rawData.shape[1]-1\n",
    "\n",
    "    # Which digital word to read. \n",
    "    # For imec, there is only 1 digital word, dw = 0.\n",
    "    # For NI, digital lines 0-15 are in word 0, lines 16-31 are in word 1, etc.\n",
    "    dw = 0    \n",
    "    # Which lines within the digital word, zero-based\n",
    "    # Note that the SYNC line for PXI 3B is stored in line 6.\n",
    "    dLineList = [6]\n",
    "        \n",
    "    return ExtractDigital(rawData, firstSamp, lastSamp, dw, dLineList, meta)"
   ]
  },
  {
   "cell_type": "code",
   "execution_count": null,
   "metadata": {},
   "outputs": [],
   "source": [
    "def sglx_onset_samples(sync):\n",
    "    '''Extract the pulse rising edge samples from the SGLX sync channel.'''\n",
    "    # Onsets are the first samples where a value is high after being low. If sample 0 is high, the first onset is sample 0. Consistent with TDT convention.\n",
    "    onset_samples = np.where(np.diff(np.squeeze(sync), prepend=0) == 1)[0]\n",
    "    assert(onset_samples.dtype == np.dtype('int64')) # Make sure uint8s have been properly casted as int64s\n",
    "    return onset_samples"
   ]
  },
  {
   "cell_type": "code",
   "execution_count": null,
   "metadata": {},
   "outputs": [],
   "source": [
    "def sglx_offset_samples(sync):\n",
    "    '''Extract the pulse falling edge samples from the SGLX sync channel'''\n",
    "    # Offsets are the first samples wehre a value is low after being high. If the last sample is high, the last offset is Inf. Consistent with TDT convention.\n",
    "    offset_samples = np.where(np.diff(np.squeeze(sync), prepend=0) == -1)[0]\n",
    "    assert(offset_samples.dtype == np.dtype('int64')) # Make sure uint8s have been properly casted as int64s\n",
    "    if np.squeeze(sync)[-1] == 1:\n",
    "        offset_samples = np.append(offset_samples, np.Inf)\n",
    "    return offset_samples"
   ]
  },
  {
   "cell_type": "code",
   "execution_count": null,
   "metadata": {},
   "outputs": [],
   "source": [
    "def get_rising_edges(onset_times):\n",
    "    '''Assumes onset times follow TDT convention, as described above.'''\n",
    "    return onset_times[np.where(onset_times > 0)]"
   ]
  },
  {
   "cell_type": "code",
   "execution_count": null,
   "metadata": {},
   "outputs": [],
   "source": [
    "def get_falling_edges(offset_times):\n",
    "    '''Assumes offset times follow TDT convention, as described above '''\n",
    "    return offset_times[np.where(offset_times < np.Inf)]"
   ]
  },
  {
   "cell_type": "code",
   "execution_count": null,
   "metadata": {},
   "outputs": [],
   "source": [
    "sglx_file = select_sglx_file()"
   ]
  },
  {
   "cell_type": "code",
   "execution_count": null,
   "metadata": {},
   "outputs": [],
   "source": [
    "sglx_sync = sglx_load_sync(sglx_file)\n",
    "sglx_fs = SampRate(readMeta(sglx_file))\n",
    "# Times are in seconds from the start of the SGLX recording. \n",
    "sglx_onset_times = sglx_onset_samples(sglx_sync) / sglx_fs\n",
    "sglx_offset_times = sglx_offset_samples(sglx_sync) / sglx_fs"
   ]
  },
  {
   "cell_type": "code",
   "execution_count": null,
   "metadata": {},
   "outputs": [],
   "source": [
    "plot_pulses(sglx_onset_times, sglx_offset_times, nPulsesToPlot=20)"
   ]
  },
  {
   "cell_type": "code",
   "execution_count": null,
   "metadata": {},
   "outputs": [],
   "source": [
    "sglx_rising_edges = get_rising_edges(sglx_onset_times)\n",
    "sglx_falling_edges = get_falling_edges(sglx_offset_times)\n",
    "sglx_barcode_start_times, sglx_barcodes = extract_barcodes_from_times(sglx_rising_edges, sglx_falling_edges, bar_duration=0.029)"
   ]
  },
  {
   "cell_type": "markdown",
   "metadata": {},
   "source": [
    "# Load TDT"
   ]
  },
  {
   "cell_type": "code",
   "execution_count": null,
   "metadata": {},
   "outputs": [],
   "source": [
    "def select_tdt_block():\n",
    "    '''Select a TDT block to extract sync info from.'''\n",
    "    # Get file from user\n",
    "    root = Tk()         # create the Tkinter widget\n",
    "    root.withdraw()     # hide the Tkinter root window\n",
    "\n",
    "    # Windows specific; forces the window to appear in front\n",
    "    root.attributes(\"-topmost\", True)\n",
    "\n",
    "    fullPath = Path(filedialog.askdirectory(title=\"Select TDT block\"))\n",
    "\n",
    "    root.destroy()\n",
    "    \n",
    "    return fullPath"
   ]
  },
  {
   "cell_type": "code",
   "execution_count": null,
   "metadata": {},
   "outputs": [],
   "source": [
    "tdt_file = select_tdt_block()"
   ]
  },
  {
   "cell_type": "code",
   "execution_count": null,
   "metadata": {},
   "outputs": [],
   "source": [
    "tdt_data = tdt.read_block(tdt_file, evtype=['epocs'])\n",
    "# Here, we assume that your digital sync pulse is recorded on Port C0\n",
    "# YSK: TDT calls the onset of a signal that starts high \"0\", but the offset of a signal that ends high \"inf\"\n",
    "# Times are in seconds from the start of the TDT recording. \n",
    "tdt_onset_times = tdt_data.epocs.PC0_.onset \n",
    "tdt_offset_times = tdt_data.epocs.PC0_.offset"
   ]
  },
  {
   "cell_type": "code",
   "execution_count": null,
   "metadata": {},
   "outputs": [],
   "source": [
    "plot_pulses(tdt_onset_times, tdt_offset_times, nPulsesToPlot=20)"
   ]
  },
  {
   "cell_type": "code",
   "execution_count": null,
   "metadata": {},
   "outputs": [],
   "source": [
    "tdt_rising_edges = get_rising_edges(tdt_onset_times)\n",
    "tdt_falling_edges = get_falling_edges(tdt_offset_times)\n",
    "tdt_barcode_start_times, tdt_barcodes = extract_barcodes_from_times(tdt_rising_edges, tdt_falling_edges, bar_duration=0.029)"
   ]
  },
  {
   "cell_type": "markdown",
   "metadata": {},
   "source": [
    "# Use barcodes to align streams"
   ]
  },
  {
   "cell_type": "code",
   "execution_count": null,
   "metadata": {},
   "outputs": [],
   "source": [
    "print(sglx_barcode_start_times)\n",
    "print(tdt_barcode_start_times)"
   ]
  },
  {
   "cell_type": "code",
   "execution_count": null,
   "metadata": {},
   "outputs": [],
   "source": [
    "print(\"SpikeGLX barcodes:\\n\", sglx_barcodes)\n",
    "print(\"TDT barcodes:\\n\", tdt_barcodes)"
   ]
  },
  {
   "cell_type": "code",
   "execution_count": null,
   "metadata": {},
   "outputs": [],
   "source": [
    "# Find the longest sequence of barcodes recorded by both systems\n",
    "s = SequenceMatcher(None, sglx_barcodes, tdt_barcodes)\n",
    "match = s.find_longest_match(alo=0, ahi=len(sglx_barcodes), blo=0, bhi=len(tdt_barcodes))\n",
    "shared_barcodes = sglx_barcodes[match.a : match.a + match.size]\n",
    "print(\"Longest barcode sequence common to both systems:\\n\", shared_barcodes)"
   ]
  },
  {
   "cell_type": "code",
   "execution_count": null,
   "metadata": {},
   "outputs": [],
   "source": [
    "# Using the barcodes shared by both systems, fit the TDT barcode times to the SGLX barcode times\n",
    "y = sglx_barcode_start_times[match.a : match.a + match.size]\n",
    "x = tdt_barcode_start_times[match.b : match.b + match.size].reshape((-1, 1))\n",
    "model = LinearRegression().fit(x, y)\n",
    "r_sq = model.score(x, y)"
   ]
  },
  {
   "cell_type": "code",
   "execution_count": null,
   "metadata": {},
   "outputs": [],
   "source": [
    "print('coefficient of determination:', r_sq)\n",
    "print('intercept:', model.intercept_)\n",
    "print('drift rate in msec/hr:', (model.coef_[0] - 1)*60*60*1000)"
   ]
  },
  {
   "cell_type": "code",
   "execution_count": null,
   "metadata": {},
   "outputs": [],
   "source": [
    "def visualize_mapping(sglx_rising_edges, tdt_rising_edges, model, nPulsesToPlot=10):\n",
    "    '''Visualize remapped TDT sync pulse times in SGLX time space, to verify correctness.\n",
    "    Black lines = Pulse times measured by SGLX.\n",
    "    Red lines = Pulse times measured by TDT and remapped to SGLX time space. '''\n",
    "    remapped_tdt_times = model.predict(tdt_rising_edges.reshape((-1, 1)))\n",
    "    \n",
    "    plt.figure(num=None, figsize=(30, 6), dpi=80, facecolor='w', edgecolor='k')\n",
    "    plt.vlines(sglx_rising_edges[:nPulsesToPlot], 0, 1, colors='black')\n",
    "    plt.vlines(remapped_tdt_times[:nPulsesToPlot], 0, 1, linestyle='dotted', colors='red')"
   ]
  },
  {
   "cell_type": "code",
   "execution_count": null,
   "metadata": {},
   "outputs": [],
   "source": [
    "visualize_mapping(sglx_rising_edges, tdt_rising_edges, model, nPulsesToPlot=1000)"
   ]
  },
  {
   "cell_type": "markdown",
   "metadata": {},
   "source": [
    "# Get TDT stimulation times from epocs store. Best if ISI is fixed. "
   ]
  },
  {
   "cell_type": "code",
   "execution_count": null,
   "metadata": {},
   "outputs": [],
   "source": [
    "def get_stim_times_from_epocs(tdt_data):\n",
    "    '''Extract the time of each stimulation from a loaded TDT block.\n",
    "    Times are in seconds from the start of the TDT recording.\n",
    "    Only works if pulses are delivered at fixed intervals.'''\n",
    "    CntA = tdt_data.epocs.CntA \n",
    "    PeA_ = tdt_data.epocs.PeA_\n",
    "    \n",
    "    n_strobes = np.size(PeA_.onset) \n",
    "    stim_t = np.array([])\n",
    "    \n",
    "    for strobe in np.arange(n_strobes):\n",
    "        strobe_ISI = PeA_.data[strobe] / 1000 # Convert from msec to sec\n",
    "        n_strobe_stims = CntA.data[strobe] # The number of stimlations in this strobe\n",
    "        strobe_start = PeA_.onset[strobe] # The time that this strobe started\n",
    "        strobe_stims = strobe_start + np.arange(n_strobe_stims) * strobe_ISI # The time of each stimulation in this strobe\n",
    "        stim_t = np.append(stim_t, strobe_stims)\n",
    "        \n",
    "    return stim_t  "
   ]
  },
  {
   "cell_type": "code",
   "execution_count": null,
   "metadata": {},
   "outputs": [],
   "source": [
    "# tdt_data = tdt.read_block(tdt_file, evtype=['epocs', 'streams'])\n",
    "# stim_times = get_stim_times(tdt_data)"
   ]
  },
  {
   "cell_type": "code",
   "execution_count": null,
   "metadata": {},
   "outputs": [],
   "source": [
    "def visualize_stims_from_epocs(tdt_data, ch, first_stim=0, last_stim=4, before=100, after=100):\n",
    "    '''Visualize estimated stimulation times (block dotted lines) relative to the stimulator current stream.\n",
    "    first_stim is the 0-based index of the first stimulation to plot.\n",
    "    last_stim is the 0-based index of the last stimulation to plot. \n",
    "    before/after are the number of samples to plot before the first stim and after the last stim.\n",
    "    ch is the stimulator current channel to plot.'''\n",
    "    fs = tdt_data.streams.eS1r.fs\n",
    "    stim_times = get_stim_times_from_epocs(tdt_data)\n",
    "    stim_samples = np.rint(stim_times * fs).astype('int')\n",
    "    samplesToPlot = np.arange(stim_samples[first_stim] - before, stim_samples[last_stim] + after)\n",
    "\n",
    "    plt.figure(num=None, figsize=(30, 6), dpi=80, facecolor='w', edgecolor='k')\n",
    "    plt.plot(samplesToPlot, tdt_data.streams.eS1r.data[ch, samplesToPlot])\n",
    "    plt.vlines(stim_samples[first_stim : last_stim + 1], 0, 1000, linestyle='dotted', colors='black')"
   ]
  },
  {
   "cell_type": "code",
   "execution_count": null,
   "metadata": {},
   "outputs": [],
   "source": [
    "# visualize_stims_from_epocs(tdt_data, ch=5, first_stim=1, last_stim=20)"
   ]
  },
  {
   "cell_type": "markdown",
   "metadata": {},
   "source": [
    "# Get TDT stimulation times from streams store. Necessary if ISI is jittered."
   ]
  },
  {
   "cell_type": "code",
   "execution_count": null,
   "metadata": {},
   "outputs": [],
   "source": [
    "def remove_trailing_events(events, fs, distance=0.01):\n",
    "    \"\"\"Remove events that trail the first event within a certain amount of time.\n",
    "    \n",
    "    Parameters:\n",
    "    ===========\n",
    "    events: (n_events,)\n",
    "        The sample numbers of each event. \n",
    "    fs:\n",
    "        The sample rate.\n",
    "    distance:\n",
    "        The minimum number of seconds that an event must trail its predecessor in order to avoid being removed.\n",
    "    \n",
    "    Returns:\n",
    "    ========\n",
    "    arr: (n,):\n",
    "        All events which did not trail another event by less than `distance` seconds.\n",
    "    \n",
    "    Examples:\n",
    "    =========\n",
    "    If events are samples that occur at times (0.1, 0.4, 1, 1.9, 3) and distance=1,\n",
    "        resulting samples be will be from times (0.1, 1.9, 3).\n",
    "    \"\"\"\n",
    "    if events.size == 0:\n",
    "        return []\n",
    "\n",
    "    leading = [events[0]]\n",
    "    trailing = np.where(events - events[0] <= int(fs * distance))\n",
    "    remaining = np.delete(events, trailing)\n",
    "    return leading + remove_trailing_events(remaining, fs, distance)"
   ]
  },
  {
   "cell_type": "code",
   "execution_count": null,
   "metadata": {},
   "outputs": [],
   "source": [
    "def assert_all_equal(arr):\n",
    "    \"\"\"Assert that all values in an array are equal, then return that value.\"\"\"\n",
    "    val = arr[0]\n",
    "    assert np.all(arr == val), \"All array values should be equal.\"\n",
    "    return val"
   ]
  },
  {
   "cell_type": "code",
   "execution_count": null,
   "metadata": {},
   "outputs": [],
   "source": [
    "def get_stim_times_from_streams(tdt_data, isi_floor=0.01):\n",
    "    \"\"\"Get stimulation times by detecting the leading edges in the rectified, idealized current traces.\n",
    "    Note that idealized current is found in the eS1r stream store, while the actual current is found\n",
    "    in the IZ2n stream store. \n",
    "    \n",
    "    Parameters:\n",
    "    ===========\n",
    "    tdt_data: TDT block with epocs and streams stores. \n",
    "    isi_floor:\n",
    "        The mimimum interstimulation interval. This value must be longer than the duration of any single stimulation pulse. \n",
    "        \n",
    "    Returns:\n",
    "    ========\n",
    "    times: (n_stimulations,)\n",
    "        Stimulation times, in seconds from the start of the TDT recording.\n",
    "    \"\"\"\n",
    "    fs = tdt_data.streams.eS1r.fs\n",
    "    \n",
    "    # Get the channel number for each of the bipolar stimulation channels\n",
    "    chA = assert_all_equal(tdt_data.epocs.ChnA.data)\n",
    "    chB = assert_all_equal(tdt_data.epocs.ChnB.data)\n",
    "    \n",
    "    # Get the corresponding indexes into the idealized current trace data.\n",
    "    iA = np.where(tdt_data.streams.eS1r.channel == chA)[0][0]\n",
    "    iB = np.where(tdt_data.streams.eS1r.channel == chB)[0][0]\n",
    "    \n",
    "    # Get the rectified, idealized current traces for each stimulatin channel.\n",
    "    datA = np.abs(tdt_data.streams.eS1r.data[iA])\n",
    "    datB = np.abs(tdt_data.streams.eS1r.data[iB])\n",
    "    \n",
    "    # This is the maximum pulse amplitude delivered.\n",
    "    max_pulse_amp = tdt_data.epocs.AmpA.data.max()\n",
    "    \n",
    "    # TDT gives nonsense current trace values until the first pulse is delivered. Remove these. \n",
    "    datA[datA > max_pulse_amp] = 0\n",
    "    datB[datB > max_pulse_amp] = 0\n",
    "\n",
    "    pulse_amplitudes = np.unique(np.concatenate([datA, datB]))\n",
    "    print(\"Detected the following pulse amplitudes:\", pulse_amplitudes)\n",
    "\n",
    "    # Get all samples from both channels where current is nonzero. \n",
    "    events = np.sort(np.concatenate(np.where(datA) + np.where(datB)))\n",
    "    # Get the first sample (on either channel) where each pulse's current is nonzero.\n",
    "    stim_samples = remove_trailing_events(events, fs, distance=isi_floor)\n",
    "    \n",
    "    n_stims_detected = len(stim_samples)\n",
    "    n_stims_expected = tdt_data.epocs.CntA.data.sum()\n",
    "    if(n_stims_detected != n_stims_expected):\n",
    "        warn(f'Expected {n_stims_expected} stimulations, found {n_stims_detected}.', stacklevel=2)\n",
    "    \n",
    "    return stim_samples / fs"
   ]
  },
  {
   "cell_type": "code",
   "execution_count": null,
   "metadata": {},
   "outputs": [],
   "source": [
    "tdt_data = tdt.read_block(tdt_file, evtype=['epocs', 'streams'])\n",
    "stim_times = get_stim_times_from_streams(tdt_data)"
   ]
  },
  {
   "cell_type": "code",
   "execution_count": null,
   "metadata": {},
   "outputs": [],
   "source": [
    "def visualize_stims_from_streams(tdt_data, ch, first_stim=0, last_stim=4, before=100, after=100):\n",
    "    '''Visualize estimated stimulation times (block dotted lines) relative to the stimulator current stream.\n",
    "    first_stim is the 0-based index of the first stimulation to plot.\n",
    "    last_stim is the 0-based index of the last stimulation to plot. \n",
    "    before/after are the number of samples to plot before the first stim and after the last stim.\n",
    "    ch is the stimulator current channel to plot.'''\n",
    "    fs = tdt_data.streams.eS1r.fs\n",
    "    stim_samples = np.rint(get_stim_times_from_streams(tdt_data) * fs).astype('int')\n",
    "    samplesToPlot = np.arange(stim_samples[first_stim] - before, stim_samples[last_stim] + after)\n",
    "\n",
    "    plt.figure(num=None, figsize=(30, 6), dpi=80, facecolor='w', edgecolor='k')\n",
    "    plt.plot(samplesToPlot, tdt_data.streams.eS1r.data[ch, samplesToPlot])\n",
    "    plt.vlines(stim_samples[first_stim : last_stim + 1], 0, 200, linestyle='dotted', colors='black')"
   ]
  },
  {
   "cell_type": "code",
   "execution_count": null,
   "metadata": {},
   "outputs": [],
   "source": [
    "visualize_stims_from_streams(tdt_data, ch=1, first_stim=1, last_stim=49)"
   ]
  },
  {
   "cell_type": "markdown",
   "metadata": {},
   "source": [
    "# Remap stimulation times from TDT space to SGLX space, and save. "
   ]
  },
  {
   "cell_type": "code",
   "execution_count": null,
   "metadata": {},
   "outputs": [],
   "source": [
    "# Remap the stimulation times from TDT time space to SGLX time space, based on sync signal offset and drift between the two systems. \n",
    "sglx_stim_times = model.predict(stim_times.reshape((-1, 1)))\n",
    "sglx_stim_times"
   ]
  },
  {
   "cell_type": "code",
   "execution_count": null,
   "metadata": {},
   "outputs": [],
   "source": [
    "def matlab_saveas_dialog():\n",
    "    # Get file from user\n",
    "    root = Tk()         # create the Tkinter widget\n",
    "    root.withdraw()     # hide the Tkinter root window\n",
    "\n",
    "    # Windows specific; forces the window to appear in front\n",
    "    root.attributes(\"-topmost\", True)\n",
    "\n",
    "    fullPath = Path(filedialog.asksaveasfilename(title=\"Save as\", defaultextension=\".mat\", filetypes=((\"MATLAB\", \"*.mat\"),)))\n",
    "\n",
    "    root.destroy()\n",
    "    \n",
    "    return fullPath"
   ]
  },
  {
   "cell_type": "code",
   "execution_count": null,
   "metadata": {},
   "outputs": [],
   "source": [
    "# Export the results for use in MATLAB. \n",
    "# The names of the SGLX and TDT files used are saved with the data. \n",
    "matlab_file = matlab_saveas_dialog()\n",
    "savemat(matlab_file, {'sglx_stim_times': sglx_stim_times, 'sglx_file': sglx_file.name, 'tdt_file': tdt_file.name})"
   ]
  },
  {
   "cell_type": "code",
   "execution_count": null,
   "metadata": {},
   "outputs": [],
   "source": []
  }
 ],
 "metadata": {
  "kernelspec": {
   "display_name": "Python 3",
   "language": "python",
   "name": "python3"
  },
  "language_info": {
   "codemirror_mode": {
    "name": "ipython",
    "version": 3
   },
   "file_extension": ".py",
   "mimetype": "text/x-python",
   "name": "python",
   "nbconvert_exporter": "python",
   "pygments_lexer": "ipython3",
   "version": "3.7.9"
  }
 },
 "nbformat": 4,
 "nbformat_minor": 4
}
